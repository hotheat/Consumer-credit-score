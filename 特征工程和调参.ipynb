{
 "cells": [
  {
   "cell_type": "code",
   "execution_count": 1,
   "metadata": {
    "ExecuteTime": {
     "end_time": "2019-03-22T01:00:22.763049Z",
     "start_time": "2019-03-22T01:00:14.235263Z"
    }
   },
   "outputs": [],
   "source": [
    "import pandas as pd\n",
    "import numpy as np\n",
    "import matplotlib.pyplot as plt\n",
    "import seaborn as sns\n",
    "from model import *\n",
    "from feature_selection import *\n",
    "from sklearn.metrics import mean_absolute_error, mean_squared_error\n",
    "from lightgbm  import LGBMRegressor\n",
    "import xgboost as xgb\n",
    "import xgbfir\n",
    "from sklearn import linear_model\n",
    "from itertools import combinations"
   ]
  },
  {
   "cell_type": "code",
   "execution_count": 2,
   "metadata": {
    "ExecuteTime": {
     "end_time": "2019-03-22T01:00:22.872390Z",
     "start_time": "2019-03-22T01:00:22.763049Z"
    }
   },
   "outputs": [],
   "source": [
    "%load_ext autoreload\n",
    "%autoreload 2"
   ]
  },
  {
   "cell_type": "code",
   "execution_count": 3,
   "metadata": {
    "ExecuteTime": {
     "end_time": "2019-03-22T01:00:22.981752Z",
     "start_time": "2019-03-22T01:00:22.872390Z"
    }
   },
   "outputs": [],
   "source": [
    "pd.set_option('display.max.columns', 500)\n",
    "plt.rcParams['font.sans-serif'] = ['SimHei']\n",
    "plt.rcParams['axes.unicode_minus'] = False"
   ]
  },
  {
   "cell_type": "markdown",
   "metadata": {},
   "source": [
    "# Feature"
   ]
  },
  {
   "cell_type": "code",
   "execution_count": 4,
   "metadata": {
    "ExecuteTime": {
     "end_time": "2019-03-22T01:00:26.149671Z",
     "start_time": "2019-03-22T01:00:22.981752Z"
    }
   },
   "outputs": [
    {
     "name": "stdout",
     "output_type": "stream",
     "text": [
      "Empty DataFrame\n",
      "Columns: [std]\n",
      "Index: []\n",
      "Drop dis Empty DataFrame\n",
      "Columns: [var, all, train, test]\n",
      "Index: []\n"
     ]
    }
   ],
   "source": [
    "train_df = pd.read_csv('train_dataset/train_dataset.csv')\n",
    "test_df = pd.read_csv('test_dataset/test_dataset.csv')\n",
    "y_train = train_df['信用分']\n",
    "x_train = train_df.drop('信用分', axis=1)\n",
    "train_test = pd.concat((train_df.drop('信用分', axis=1), test_df))\n",
    "\n",
    "# 剔除标准差太小的特征\n",
    "std_df = pd.DataFrame(train_test.std(axis=0), columns=['std'])\n",
    "print(std_df[std_df['std']<0.05])\n",
    "\n",
    "# 特征：剔除二分类，且分布不一致的\n",
    "def del_col(df, cols):\n",
    "    for col in cols:\n",
    "        if col in df.columns:\n",
    "            df = df.drop(col, axis=1)\n",
    "    return df\n",
    "df_ncount = []\n",
    "for col in train_test.columns:\n",
    "    df_ncount.append([col, train_test[col].nunique(),\n",
    "                      train_df[col].nunique(), test_df[col].nunique()])\n",
    "df_ncount = pd.DataFrame(df_ncount, columns=['var', 'all', 'train', 'test'])\n",
    "df_ncount_drop = df_ncount.loc[(df_ncount['train'] != df_ncount['test']) & (\n",
    "    df_ncount['train'] <= 2)].iloc[:]\n",
    "print('Drop dis', df_ncount_drop)\n",
    "\n",
    "train_test = train_test.drop('用户编码', axis=1)\n",
    "train_test.loc[train_test['用户话费敏感度'] == 0, '用户话费敏感度'] = 5\n",
    "train_test.loc[train_test['用户年龄'] == 0, '用户年龄'] = np.nan\n",
    "train_test['年龄是否缺失'] = train_test['用户年龄'].isnull()\n",
    "train_test['是否黑名单客户'] = train_test['是否黑名单客户'].replace({0: 1, 1: 0})\n",
    "train_test['缴费用户当前是否欠费缴费'] = train_test['缴费用户当前是否欠费缴费'].replace({0: 1, 1: 0})\n",
    "train_test['当月是否去过高档商场消费'] = train_test['当月是否逛过福州仓山万达'] + \\\n",
    "    train_test['当月是否到过福州山姆会员店']\n",
    "train_test.loc[train_test['当月是否去过高档商场消费'] >= 1, '当月是否去过高档商场消费'] = 1\n",
    "train_test['用户欠费缴费或黑名单'] = (\n",
    "    (train_test['是否黑名单客户'] + train_test['缴费用户当前是否欠费缴费']) >= 1).apply(int)\n",
    "\n",
    "bi_combine_lst = ['是否经常逛商场的人', '当月是否看电影', '当月是否景点游览', '当月是否体育场馆消费']\n",
    "combine_iter = combinations(range(4), 2)\n",
    "\n",
    "\n",
    "def parse_bifeature(df, col1, col2):\n",
    "    df[col1+'或'+col2] = ((df[col1] * df[col2]) >= 1).apply(int)\n",
    "    return df\n",
    "\n",
    "\n",
    "for idx1, idx2 in combine_iter:\n",
    "    col1, col2 = bi_combine_lst[idx1], bi_combine_lst[idx2]\n",
    "    train_test = parse_bifeature(train_test, col1, col2)\n",
    "\n",
    "train_test['商场_电影_景点'] = train_test['是否经常逛商场的人'] + \\\n",
    "    train_test['当月是否看电影']+train_test['当月是否景点游览']\n",
    "\n",
    "train_test['商场_电影_体育馆'] = train_test['是否经常逛商场的人'] + \\\n",
    "    train_test['当月是否看电影']+train_test['当月是否体育场馆消费']\n",
    "\n",
    "train_test['商场_体育馆_景点'] = train_test['是否经常逛商场的人'] + \\\n",
    "    train_test['当月是否体育场馆消费']+train_test['当月是否景点游览']\n",
    "\n",
    "train_test['体育馆_电影_景点'] = train_test['当月是否体育场馆消费'] + \\\n",
    "    train_test['当月是否看电影']+train_test['当月是否景点游览']\n",
    "\n",
    "train_test['体育馆_电影_景点_商场'] = train_test['当月是否体育场馆消费'] + \\\n",
    "    train_test['当月是否看电影']+train_test['当月是否景点游览'] + train_test['是否经常逛商场的人']\n",
    "\n",
    "train_test['缴费金额是否覆盖当月账单'] = train_test['缴费用户最近一次缴费金额（元）'] - \\\n",
    "    train_test['用户账单当月总费用（元）']\n",
    "train_test['最近一次缴费是否超过平均消费额'] = train_test['缴费用户最近一次缴费金额（元）'] - \\\n",
    "    train_test['用户近6个月平均消费值（元）']\n",
    "train_test['当月账单是否超过平均消费额'] = train_test['用户账单当月总费用（元）'] - \\\n",
    "    train_test['用户近6个月平均消费值（元）']\n",
    "train_test['交通类APP使用次数'] = train_test['当月飞机类应用使用次数'] + \\\n",
    "    train_test['当月火车类应用使用次数']\n",
    "\n",
    "# 离散化\n",
    "lst = ['交通类APP使用次数', '当月物流快递类应用使用次数',\n",
    "       '当月飞机类应用使用次数', '当月火车类应用使用次数', '当月旅游资讯类应用使用次数']\n",
    "\n",
    "\n",
    "def discreteze(x):\n",
    "    if x == 0:\n",
    "        return 0\n",
    "    elif x <= 5:\n",
    "        return 1\n",
    "    elif x <= 15:\n",
    "        return 2\n",
    "    elif x <= 50:\n",
    "        return 3\n",
    "    elif x <= 100:\n",
    "        return 4\n",
    "    else:\n",
    "        return 5\n",
    "\n",
    "\n",
    "for i in lst:\n",
    "    train_test[i] = train_test[i].apply(discreteze)\n",
    "\n",
    "# 针对长尾分布和异常值\n",
    "\n",
    "\n",
    "def base_process(data):\n",
    "    transform_value_feature = ['用户年龄', '用户网龄（月）', '当月通话交往圈人数',\n",
    "                               '最近一次缴费是否超过平均消费额', '当月账单是否超过平均消费额',\n",
    "                               '近三个月月均商场出现次数', '当月网购类应用使用次数',\n",
    "                               '当月物流快递类应用使用次数', '当月金融理财类应用使用总次数',\n",
    "                               '当月视频播放类应用使用次数', '当月飞机类应用使用次数',\n",
    "                               '当月火车类应用使用次数', '当月旅游资讯类应用使用次数',\n",
    "                               ]\n",
    "    user_bill_fea = ['缴费用户最近一次缴费金额（元）', '用户近6个月平均消费值（元）',\n",
    "                     '用户账单当月总费用（元）', '用户当月账户余额（元）',\n",
    "                     ]\n",
    "    log_features = ['当月网购类应用使用次数', '当月金融理财类应用使用总次数', '当月视频播放类应用使用次数',\n",
    "                    ]\n",
    "    for col in transform_value_feature + log_features+user_bill_fea:\n",
    "        ulimit = np.percentile(data[col][data[col].notnull()].values, 99.9)\n",
    "        llimit = np.percentile(data[col][data[col].notnull()].values, 0.1)\n",
    "        data.loc[(data[col] > ulimit) & (data[col].notnull()), col] = ulimit\n",
    "        data.loc[(data[col] < llimit) & (data[col].notnull()), col] = llimit\n",
    "\n",
    "    for col in user_bill_fea+log_features:\n",
    "        data[col] = np.log1p(data[col])\n",
    "    return data\n",
    "\n",
    "\n",
    "train_test = base_process(train_test)\n",
    "\n",
    "train_test['用户网龄（年）'] = train_test['用户网龄（月）']//12+1\n",
    "\n",
    "agg_func = {\n",
    "    '当月通话交往圈人数': ['mean'],\n",
    "    '用户账单当月总费用（元）': ['mean'],\n",
    "    #     '用户话费敏感度': ['mean'],\n",
    "    #     '用户近6个月平均消费值（元）': ['mean'],\n",
    "    #     '当月视频播放类应用使用次数': [ 'mean'],\n",
    "    #     '当月金融理财类应用使用总次数': ['mean'],\n",
    "}\n",
    "\n",
    "agg_time_year = train_test.groupby('用户网龄（年）').agg(agg_func)\n",
    "\n",
    "agg_time_year.columns = ['_'.join(col).strip()\n",
    "                         for col in agg_time_year.columns.values]\n",
    "agg_time_year.reset_index(inplace=True)\n",
    "\n",
    "for col in agg_time_year.drop('用户网龄（年）', axis=1).columns:\n",
    "    ulimit = np.percentile(agg_time_year[col].values, 99.9)\n",
    "    llimit = np.percentile(agg_time_year[col].values, 0.1)\n",
    "    agg_time_year.loc[agg_time_year[col] > ulimit, col] = ulimit\n",
    "    agg_time_year.loc[agg_time_year[col] < llimit, col] = llimit\n",
    "\n",
    "train_test = pd.merge(train_test, agg_time_year, on='用户网龄（年）', how='left')\n",
    "\n",
    "# 账号余额 + 缴费费用\n",
    "train_test['余额+缴费费用'] = train_test['缴费用户最近一次缴费金额（元）'] + \\\n",
    "    train_test['用户当月账户余额（元）']"
   ]
  },
  {
   "cell_type": "code",
   "execution_count": 5,
   "metadata": {
    "ExecuteTime": {
     "end_time": "2019-03-22T01:00:27.068041Z",
     "start_time": "2019-03-22T01:00:26.149671Z"
    }
   },
   "outputs": [
    {
     "data": {
      "text/plain": [
       "用户实名制是否通过核实                 2\n",
       "用户年龄                       71\n",
       "是否大学生客户                     2\n",
       "是否黑名单客户                     2\n",
       "是否4G不健康客户                   2\n",
       "用户网龄（月）                   268\n",
       "用户最近一次缴费距今时长（月）             2\n",
       "缴费用户最近一次缴费金额（元）           523\n",
       "用户近6个月平均消费值（元）          22354\n",
       "用户账单当月总费用（元）            16481\n",
       "用户当月账户余额（元）               228\n",
       "缴费用户当前是否欠费缴费                2\n",
       "用户话费敏感度                     5\n",
       "当月通话交往圈人数                 460\n",
       "是否经常逛商场的人                   2\n",
       "近三个月月均商场出现次数               93\n",
       "当月是否逛过福州仓山万达                2\n",
       "当月是否到过福州山姆会员店               2\n",
       "当月是否看电影                     2\n",
       "当月是否景点游览                    2\n",
       "当月是否体育场馆消费                  2\n",
       "当月网购类应用使用次数              8283\n",
       "当月物流快递类应用使用次数               6\n",
       "当月金融理财类应用使用总次数           7133\n",
       "当月视频播放类应用使用次数           15968\n",
       "当月飞机类应用使用次数                 6\n",
       "当月火车类应用使用次数                 6\n",
       "当月旅游资讯类应用使用次数               6\n",
       "年龄是否缺失                      2\n",
       "当月是否去过高档商场消费                2\n",
       "用户欠费缴费或黑名单                  2\n",
       "是否经常逛商场的人或当月是否看电影           2\n",
       "是否经常逛商场的人或当月是否景点游览          2\n",
       "是否经常逛商场的人或当月是否体育场馆消费        2\n",
       "当月是否看电影或当月是否景点游览            2\n",
       "当月是否看电影或当月是否体育场馆消费          2\n",
       "当月是否景点游览或当月是否体育场馆消费         2\n",
       "商场_电影_景点                    4\n",
       "商场_电影_体育馆                   4\n",
       "商场_体育馆_景点                   4\n",
       "体育馆_电影_景点                   4\n",
       "体育馆_电影_景点_商场                5\n",
       "缴费金额是否覆盖当月账单            26095\n",
       "最近一次缴费是否超过平均消费额         40846\n",
       "当月账单是否超过平均消费额           28008\n",
       "交通类APP使用次数                  6\n",
       "用户网龄（年）                    23\n",
       "当月通话交往圈人数_mean             23\n",
       "用户账单当月总费用（元）_mean          23\n",
       "余额+缴费费用                  2092\n",
       "dtype: int64"
      ]
     },
     "execution_count": 5,
     "metadata": {},
     "output_type": "execute_result"
    }
   ],
   "source": [
    "train_test.nunique()"
   ]
  },
  {
   "cell_type": "code",
   "execution_count": 6,
   "metadata": {
    "ExecuteTime": {
     "end_time": "2019-03-22T01:00:27.192842Z",
     "start_time": "2019-03-22T01:00:27.068041Z"
    }
   },
   "outputs": [],
   "source": [
    "# train_test['平均消费值_mean'] = train_test.groupby(['当月通话交往圈人数', '用户网龄（年）'])['用户近6个月平均消费值（元）'].transform(np.mean)\n",
    "\n",
    "# train_test['当月通话交往圈人数_log'] = np.log1p(train_test['当月通话交往圈人数'])\n",
    "# train_test.loc[train_test['当月通话交往圈人数_log']<2, '当月通话交往圈人数_log'] = 1\n",
    "# bins = range(8)\n",
    "# train_test['当月通话交往圈人数_log'] = pd.cut(\n",
    "#     train_test['当月通话交往圈人数_log'], bins=bins, labels=[i for i in bins[:-1]]).astype('int')\n",
    "\n",
    "# bins = range(8)\n",
    "# train_test['用户近6个月平均消费值（元）_log'] = train_test['用户近6个月平均消费值（元）']\n",
    "\n",
    "# train_test['用户近6个月平均消费值（元）_log'] = pd.cut(\n",
    "#     train_test['用户近6个月平均消费值（元）_log'], bins=bins, labels=[i for i in bins[:-1]]).astype('int')\n",
    "\n",
    "# # # 排名\n",
    "# # def cat_rank(train_test, train_df, col):\n",
    "# #     df_rank = train_df.groupby(col)['信用分'].mean().reset_index()\n",
    "# #     df_rank[col + '_rank'] = df_rank['信用分'].rank()\n",
    "# #     df_rank.drop('信用分', axis=1, inplace=True)\n",
    "# #     train_test = pd.merge(train_test, df_rank, on=col, how='left')\n",
    "# #     return train_test\n",
    "# # train_test = cat_rank(train_test, pd.concat((train_test[:train_df.shape[0]], y_train), axis=1), '当月通话交往圈人数_log')\n",
    "\n",
    "# train_test['交往圈人数+平均消费值log'] = train_test['用户近6个月平均消费值（元）_log'] + \\\n",
    "#     train_test['当月通话交往圈人数_log']\n",
    "# train_test.drop(['用户近6个月平均消费值（元）_log', '当月通话交往圈人数_log'], axis=1, inplace=True)\n",
    "\n",
    "# useless Feature\n",
    "# 飞机和火车类应用至少使用一个\n",
    "# 是否 ['缴费用户最近一次缴费金额（元）', '近三个月月均商场出现次数', '当月网购类应用使用次数', '当月金融理财类应用使用总次数',\n",
    "#                 '当月视频播放类应用使用次数', '当月旅游资讯类应用使用次数']\n",
    "\n",
    "\n",
    "# def parse_app(row, col1, col2):\n",
    "#     if row[col1]==0 and row[col2]==0:\n",
    "#         return 0\n",
    "#     else:\n",
    "#         return 1\n",
    "\n",
    "# train_test['旅游资讯和视频播放类'] = train_test.apply(\n",
    "#     lambda x: parse_app(x, '当月旅游资讯类应用使用次数', '当月视频播放类应用使用次数'), axis=1)\n",
    "# train_test['旅游资讯和网购类应用'] = train_test.apply(\n",
    "#     lambda x: parse_app(x, '当月旅游资讯类应用使用次数', '当月网购类应用使用次数'), axis=1)\n",
    "# train_test['旅游资讯和金融理财类应用'] = train_test.apply(\n",
    "#     lambda x: parse_app(x, '当月旅游资讯类应用使用次数', '当月金融理财类应用使用总次数'), axis=1)\n",
    "\n",
    "# useless logY\n",
    "# lgb_log_train, lgb_test = ModelRun(n_fold=10).run_oof(\n",
    "#     lgbwrapper, x_train.values, y_train.values, x_test.values, logy=True)\n",
    "\n",
    "# train_test['6个月占比总费用'] = train_test['用户近6个月平均消费值（元）'] / \\\n",
    "#     train_test['用户账单当月总费用（元）']+1\n",
    "# # 不同充值路径\n",
    "# train_test['不同充值途径'] = 0\n",
    "# train_test.loc[(train_test['缴费用户最近一次缴费金额（元）'] %\n",
    "#                       10 == 0) & train_test['缴费用户最近一次缴费金额（元）'] != 0, '不同充值途径'] = 1\n",
    "# # 费用稳定性\n",
    "# train_test['当前费用稳定性'] = train_test['用户账单当月总费用（元）'] / \\\n",
    "#     (train_test['用户近6个月平均消费值（元）']+1)\n",
    "# # 当月话费/当月账户余额\n",
    "# train_test['用户余额比例'] = train_test['用户账单当月总费用（元）']/(train_test['用户当月账户余额（元）']+1)\n",
    "# 当月交往圈人数 * 用户网龄\n",
    "# train_test['用户网龄交往圈人数'] = train_test['当月通话交往圈人数']*train_test['用户网龄（月）']\n",
    "# 用户网龄 * 近 6 个月平均消费\n",
    "# train_test['用户网龄近 6 个月平均消费'] = train_test['当月通话交往圈人数']*train_test['用户近6个月平均消费值（元）']\n",
    "\n",
    "# 用户入网时间\n",
    "# train_test['用户入网时间'] = train_test['用户年龄']- train_test['用户网龄（月）']/12\n",
    "# train_test.loc[train_test['用户入网时间']<0, '用户入网时间'] = 0\n",
    "\n",
    "\n",
    "# train_test['缴费+余额是否覆盖账单'] = train_test['用户当月账户余额（元）'] + \\\n",
    "#     train_test['缴费用户最近一次缴费金额（元）'] - train_test['用户账单当月总费用（元）']\n",
    "# train_test['余额是否覆盖账单'] = train_test['用户当月账户余额（元）'] - train_test['用户账单当月总费用（元）']\n",
    "\n",
    "# # 用户话费敏感度\n",
    "# agg_func = {\n",
    "#     '当月通话交往圈人数': ['mean', 'sum', 'std'],\n",
    "#     '用户账单当月总费用（元）': ['mean', 'sum', 'std'],\n",
    "#     '用户近6个月平均消费值（元）': ['mean', 'sum', 'std'],\n",
    "#     '缴费金额是否覆盖当月账单': ['mean', 'sum', 'std'],\n",
    "#     '当月账单是否超过平均消费额': ['mean', 'sum', 'std'],\n",
    "#     '缴费用户最近一次缴费金额（元）': ['mean', 'sum', 'std'],\n",
    "# }\n",
    "\n",
    "# bill_sensitivity = train_test.groupby('用户话费敏感度').agg(agg_func)\n",
    "# bill_sensitivity.columns = ['bill_sensitivity_'.join(col).strip()\n",
    "#                          for col in bill_sensitivity.columns.values]\n",
    "# bill_sensitivity.reset_index(inplace=True)\n",
    "\n",
    "# for col in bill_sensitivity.drop('用户话费敏感度', axis=1).columns:\n",
    "#     ulimit = np.percentile(bill_sensitivity[col].values, 99.9)\n",
    "#     llimit = np.percentile(bill_sensitivity[col].values, 0.1)\n",
    "#     bill_sensitivity.loc[bill_sensitivity[col] > ulimit, col] = ulimit\n",
    "#     bill_sensitivity.loc[bill_sensitivity[col] < llimit, col] = llimit\n",
    "\n",
    "# train_test = pd.merge(train_test, bill_sensitivity, on='用户话费敏感度', how='left')"
   ]
  },
  {
   "cell_type": "code",
   "execution_count": 7,
   "metadata": {
    "ExecuteTime": {
     "end_time": "2019-03-22T01:00:27.305278Z",
     "start_time": "2019-03-22T01:00:27.192842Z"
    }
   },
   "outputs": [],
   "source": [
    "# train_test['当月通话交往圈人数_log'] = np.log1p(train_test['当月通话交往圈人数'])\n",
    "# train_test.loc[train_test['当月通话交往圈人数_log']<2, '当月通话交往圈人数_log'] = 1\n",
    "# bins = range(8)\n",
    "# train_test['当月通话交往圈人数_log'] = pd.cut(\n",
    "#     train_test['当月通话交往圈人数_log'], bins=bins, labels=[i for i in bins[:-1]]).astype('int')\n",
    "\n",
    "# bins = range(8)\n",
    "# train_test['用户近6个月平均消费值（元）_log'] = train_test['用户近6个月平均消费值（元）']\n",
    "\n",
    "# train_test['用户近6个月平均消费值（元）_log'] = pd.cut(\n",
    "#     train_test['用户近6个月平均消费值（元）_log'], bins=bins, labels=[i for i in bins[:-1]]).astype('int')\n",
    "\n",
    "# # # 排名\n",
    "# # def cat_rank(train_test, train_df, col):\n",
    "# #     df_rank = train_df.groupby(col)['信用分'].mean().reset_index()\n",
    "# #     df_rank[col + '_rank'] = df_rank['信用分'].rank()\n",
    "# #     df_rank.drop('信用分', axis=1, inplace=True)\n",
    "# #     train_test = pd.merge(train_test, df_rank, on=col, how='left')\n",
    "# #     return train_test\n",
    "# # train_test = cat_rank(train_test, pd.concat((train_test[:train_df.shape[0]], y_train), axis=1), '当月通话交往圈人数_log')\n",
    "\n",
    "# train_test['交往圈人数+平均消费值log'] = train_test['用户近6个月平均消费值（元）_log'] + \\\n",
    "#     train_test['当月通话交往圈人数_log']\n",
    "# train_test.drop(['用户近6个月平均消费值（元）_log', '当月通话交往圈人数_log'], axis=1, inplace=True)\n",
    "\n",
    "# useless Feature\n",
    "# 飞机和火车类应用至少使用一个\n",
    "# 是否 ['缴费用户最近一次缴费金额（元）', '近三个月月均商场出现次数', '当月网购类应用使用次数', '当月金融理财类应用使用总次数',\n",
    "#                 '当月视频播放类应用使用次数', '当月旅游资讯类应用使用次数']\n",
    "\n",
    "\n",
    "# def parse_app(row, col1, col2):\n",
    "#     if row[col1]==0 and row[col2]==0:\n",
    "#         return 0\n",
    "#     else:\n",
    "#         return 1\n",
    "\n",
    "# train_test['旅游资讯和视频播放类'] = train_test.apply(\n",
    "#     lambda x: parse_app(x, '当月旅游资讯类应用使用次数', '当月视频播放类应用使用次数'), axis=1)\n",
    "# train_test['旅游资讯和网购类应用'] = train_test.apply(\n",
    "#     lambda x: parse_app(x, '当月旅游资讯类应用使用次数', '当月网购类应用使用次数'), axis=1)\n",
    "# train_test['旅游资讯和金融理财类应用'] = train_test.apply(\n",
    "#     lambda x: parse_app(x, '当月旅游资讯类应用使用次数', '当月金融理财类应用使用总次数'), axis=1)\n",
    "\n",
    "# useless logY\n",
    "# lgb_log_train, lgb_test = ModelRun(n_fold=10).run_oof(\n",
    "#     lgbwrapper, x_train.values, y_train.values, x_test.values, logy=True)\n",
    "\n",
    "# train_test['6个月占比总费用'] = train_test['用户近6个月平均消费值（元）'] / \\\n",
    "#     train_test['用户账单当月总费用（元）']+1\n",
    "# # 不同充值路径\n",
    "# train_test['不同充值途径'] = 0\n",
    "# train_test.loc[(train_test['缴费用户最近一次缴费金额（元）'] %\n",
    "#                       10 == 0) & train_test['缴费用户最近一次缴费金额（元）'] != 0, '不同充值途径'] = 1\n",
    "# # 费用稳定性\n",
    "# train_test['当前费用稳定性'] = train_test['用户账单当月总费用（元）'] / \\\n",
    "#     (train_test['用户近6个月平均消费值（元）']+1)\n",
    "# # 当月话费/当月账户余额\n",
    "# train_test['用户余额比例'] = train_test['用户账单当月总费用（元）']/(train_test['用户当月账户余额（元）']+1)\n",
    "# 当月交往圈人数 * 用户网龄\n",
    "# train_test['用户网龄交往圈人数'] = train_test['当月通话交往圈人数']*train_test['用户网龄（月）']\n",
    "# 用户网龄 * 近 6 个月平均消费\n",
    "# train_test['用户网龄近 6 个月平均消费'] = train_test['当月通话交往圈人数']*train_test['用户近6个月平均消费值（元）']\n",
    "\n",
    "# 用户入网时间\n",
    "# train_test['用户入网时间'] = train_test['用户年龄']- train_test['用户网龄（月）']/12\n",
    "# train_test.loc[train_test['用户入网时间']<0, '用户入网时间'] = 0\n",
    "\n",
    "\n",
    "# train_test['缴费+余额是否覆盖账单'] = train_test['用户当月账户余额（元）'] + \\\n",
    "#     train_test['缴费用户最近一次缴费金额（元）'] - train_test['用户账单当月总费用（元）']\n",
    "# train_test['余额是否覆盖账单'] = train_test['用户当月账户余额（元）'] - train_test['用户账单当月总费用（元）']\n",
    "\n",
    "# # 用户话费敏感度\n",
    "# agg_func = {\n",
    "#     '当月通话交往圈人数': ['mean', 'sum', 'std'],\n",
    "#     '用户账单当月总费用（元）': ['mean', 'sum', 'std'],\n",
    "#     '用户近6个月平均消费值（元）': ['mean', 'sum', 'std'],\n",
    "#     '缴费金额是否覆盖当月账单': ['mean', 'sum', 'std'],\n",
    "#     '当月账单是否超过平均消费额': ['mean', 'sum', 'std'],\n",
    "#     '缴费用户最近一次缴费金额（元）': ['mean', 'sum', 'std'],\n",
    "# }\n",
    "\n",
    "# bill_sensitivity = train_test.groupby('用户话费敏感度').agg(agg_func)\n",
    "# bill_sensitivity.columns = ['bill_sensitivity_'.join(col).strip()\n",
    "#                          for col in bill_sensitivity.columns.values]\n",
    "# bill_sensitivity.reset_index(inplace=True)\n",
    "\n",
    "# for col in bill_sensitivity.drop('用户话费敏感度', axis=1).columns:\n",
    "#     ulimit = np.percentile(bill_sensitivity[col].values, 99.9)\n",
    "#     llimit = np.percentile(bill_sensitivity[col].values, 0.1)\n",
    "#     bill_sensitivity.loc[bill_sensitivity[col] > ulimit, col] = ulimit\n",
    "#     bill_sensitivity.loc[bill_sensitivity[col] < llimit, col] = llimit\n",
    "\n",
    "# train_test = pd.merge(train_test, bill_sensitivity, on='用户话费敏感度', how='left')"
   ]
  },
  {
   "cell_type": "markdown",
   "metadata": {},
   "source": [
    "# 特征重要性"
   ]
  },
  {
   "cell_type": "markdown",
   "metadata": {},
   "source": [
    "## xgbfir"
   ]
  },
  {
   "cell_type": "code",
   "execution_count": 8,
   "metadata": {
    "ExecuteTime": {
     "end_time": "2019-03-22T01:00:33.517662Z",
     "start_time": "2019-03-22T01:00:27.305278Z"
    }
   },
   "outputs": [],
   "source": [
    "x_train = train_test[:train_df.shape[0]]\n",
    "xgb_cmodel = xgb.XGBRegressor().fit(x_train.astype('float'), y_train)\n",
    "xgbfir.saveXgbFI(xgb_cmodel, feature_names=x_train.columns, OutputXlsxFile='特征重要性.xlsx')\n",
    "\n",
    "feat_importance = pd.read_excel('特征重要性.xlsx')\n",
    "feats_selected = feat_importance['Interaction']\n",
    "train_test = train_test[feats_selected]"
   ]
  },
  {
   "cell_type": "code",
   "execution_count": 9,
   "metadata": {
    "ExecuteTime": {
     "end_time": "2019-03-22T01:00:33.626842Z",
     "start_time": "2019-03-22T01:00:33.517662Z"
    }
   },
   "outputs": [],
   "source": [
    "x_train, y_train, x_test = train_test[:train_df.shape[0]\n",
    "                                      ], y_train, train_test[train_df.shape[0]:]"
   ]
  },
  {
   "cell_type": "markdown",
   "metadata": {},
   "source": [
    "## Null importance"
   ]
  },
  {
   "cell_type": "code",
   "execution_count": 27,
   "metadata": {
    "ExecuteTime": {
     "end_time": "2019-03-21T07:16:31.247639Z",
     "start_time": "2019-03-21T07:16:30.902100Z"
    }
   },
   "outputs": [
    {
     "ename": "TypeError",
     "evalue": "cannot concatenate object of type \"<class 'numpy.ndarray'>\"; only pd.Series, pd.DataFrame, and pd.Panel (deprecated) objs are valid",
     "output_type": "error",
     "traceback": [
      "\u001b[1;31m---------------------------------------------------------------------------\u001b[0m",
      "\u001b[1;31mTypeError\u001b[0m                                 Traceback (most recent call last)",
      "\u001b[1;32m<ipython-input-27-97e76deae3a9>\u001b[0m in \u001b[0;36m<module>\u001b[1;34m()\u001b[0m\n\u001b[0;32m      1\u001b[0m \u001b[0mx_train\u001b[0m \u001b[1;33m=\u001b[0m \u001b[0mtrain_test\u001b[0m\u001b[1;33m[\u001b[0m\u001b[1;33m:\u001b[0m\u001b[0mtrain_df\u001b[0m\u001b[1;33m.\u001b[0m\u001b[0mshape\u001b[0m\u001b[1;33m[\u001b[0m\u001b[1;36m0\u001b[0m\u001b[1;33m]\u001b[0m\u001b[1;33m]\u001b[0m\u001b[1;33m\u001b[0m\u001b[0m\n\u001b[1;32m----> 2\u001b[1;33m \u001b[0mni\u001b[0m \u001b[1;33m=\u001b[0m \u001b[0mNull_Importance\u001b[0m\u001b[1;33m(\u001b[0m\u001b[0mx_train\u001b[0m\u001b[1;33m,\u001b[0m \u001b[0my_train\u001b[0m\u001b[1;33m)\u001b[0m\u001b[1;33m\u001b[0m\u001b[0m\n\u001b[0m\u001b[0;32m      3\u001b[0m \u001b[0mactual_imp_df\u001b[0m \u001b[1;33m=\u001b[0m \u001b[0mni\u001b[0m\u001b[1;33m.\u001b[0m\u001b[0mget_feature_importances\u001b[0m\u001b[1;33m(\u001b[0m\u001b[1;33m)\u001b[0m\u001b[1;33m\u001b[0m\u001b[0m\n\u001b[0;32m      4\u001b[0m \u001b[0mnull_imp_df\u001b[0m \u001b[1;33m=\u001b[0m \u001b[0mni\u001b[0m\u001b[1;33m.\u001b[0m\u001b[0mbuild_null_distribution\u001b[0m\u001b[1;33m(\u001b[0m\u001b[1;33m)\u001b[0m\u001b[1;33m\u001b[0m\u001b[0m\n\u001b[0;32m      5\u001b[0m \u001b[1;31m# feature = '用户网龄交往圈人数'\u001b[0m\u001b[1;33m\u001b[0m\u001b[1;33m\u001b[0m\u001b[0m\n",
      "\u001b[1;32mC:\\Data\\Study\\MachineLearning\\Competition\\消费者人群画像—信用智能评分\\input\\feature_selection.py\u001b[0m in \u001b[0;36m__init__\u001b[1;34m(self, x_train, y_train)\u001b[0m\n\u001b[0;32m     14\u001b[0m         \u001b[0mself\u001b[0m\u001b[1;33m.\u001b[0m\u001b[0mx_train\u001b[0m \u001b[1;33m=\u001b[0m \u001b[0mx_train\u001b[0m\u001b[1;33m\u001b[0m\u001b[0m\n\u001b[0;32m     15\u001b[0m         \u001b[0mself\u001b[0m\u001b[1;33m.\u001b[0m\u001b[0my_train\u001b[0m \u001b[1;33m=\u001b[0m \u001b[0my_train\u001b[0m\u001b[1;33m\u001b[0m\u001b[0m\n\u001b[1;32m---> 16\u001b[1;33m         \u001b[0mself\u001b[0m\u001b[1;33m.\u001b[0m\u001b[0mdata\u001b[0m \u001b[1;33m=\u001b[0m \u001b[0mpd\u001b[0m\u001b[1;33m.\u001b[0m\u001b[0mconcat\u001b[0m\u001b[1;33m(\u001b[0m\u001b[1;33m(\u001b[0m\u001b[0mself\u001b[0m\u001b[1;33m.\u001b[0m\u001b[0mx_train\u001b[0m\u001b[1;33m,\u001b[0m \u001b[0mself\u001b[0m\u001b[1;33m.\u001b[0m\u001b[0my_train\u001b[0m\u001b[1;33m)\u001b[0m\u001b[1;33m,\u001b[0m \u001b[0maxis\u001b[0m\u001b[1;33m=\u001b[0m\u001b[1;36m1\u001b[0m\u001b[1;33m)\u001b[0m\u001b[1;33m\u001b[0m\u001b[0m\n\u001b[0m\u001b[0;32m     17\u001b[0m \u001b[1;33m\u001b[0m\u001b[0m\n\u001b[0;32m     18\u001b[0m     \u001b[1;32mdef\u001b[0m \u001b[0mget_feature_importances\u001b[0m\u001b[1;33m(\u001b[0m\u001b[0mself\u001b[0m\u001b[1;33m,\u001b[0m \u001b[0mshuffle\u001b[0m\u001b[1;33m=\u001b[0m\u001b[1;32mFalse\u001b[0m\u001b[1;33m,\u001b[0m \u001b[0mseed\u001b[0m\u001b[1;33m=\u001b[0m\u001b[1;32mNone\u001b[0m\u001b[1;33m)\u001b[0m\u001b[1;33m:\u001b[0m\u001b[1;33m\u001b[0m\u001b[0m\n",
      "\u001b[1;32m~\\Anaconda3\\lib\\site-packages\\pandas\\core\\reshape\\concat.py\u001b[0m in \u001b[0;36mconcat\u001b[1;34m(objs, axis, join, join_axes, ignore_index, keys, levels, names, verify_integrity, sort, copy)\u001b[0m\n\u001b[0;32m    223\u001b[0m                        \u001b[0mkeys\u001b[0m\u001b[1;33m=\u001b[0m\u001b[0mkeys\u001b[0m\u001b[1;33m,\u001b[0m \u001b[0mlevels\u001b[0m\u001b[1;33m=\u001b[0m\u001b[0mlevels\u001b[0m\u001b[1;33m,\u001b[0m \u001b[0mnames\u001b[0m\u001b[1;33m=\u001b[0m\u001b[0mnames\u001b[0m\u001b[1;33m,\u001b[0m\u001b[1;33m\u001b[0m\u001b[0m\n\u001b[0;32m    224\u001b[0m                        \u001b[0mverify_integrity\u001b[0m\u001b[1;33m=\u001b[0m\u001b[0mverify_integrity\u001b[0m\u001b[1;33m,\u001b[0m\u001b[1;33m\u001b[0m\u001b[0m\n\u001b[1;32m--> 225\u001b[1;33m                        copy=copy, sort=sort)\n\u001b[0m\u001b[0;32m    226\u001b[0m     \u001b[1;32mreturn\u001b[0m \u001b[0mop\u001b[0m\u001b[1;33m.\u001b[0m\u001b[0mget_result\u001b[0m\u001b[1;33m(\u001b[0m\u001b[1;33m)\u001b[0m\u001b[1;33m\u001b[0m\u001b[0m\n\u001b[0;32m    227\u001b[0m \u001b[1;33m\u001b[0m\u001b[0m\n",
      "\u001b[1;32m~\\Anaconda3\\lib\\site-packages\\pandas\\core\\reshape\\concat.py\u001b[0m in \u001b[0;36m__init__\u001b[1;34m(self, objs, axis, join, join_axes, keys, levels, names, ignore_index, verify_integrity, copy, sort)\u001b[0m\n\u001b[0;32m    284\u001b[0m                        \u001b[1;34m' only pd.Series, pd.DataFrame, and pd.Panel'\u001b[0m\u001b[1;33m\u001b[0m\u001b[0m\n\u001b[0;32m    285\u001b[0m                        ' (deprecated) objs are valid'.format(type(obj)))\n\u001b[1;32m--> 286\u001b[1;33m                 \u001b[1;32mraise\u001b[0m \u001b[0mTypeError\u001b[0m\u001b[1;33m(\u001b[0m\u001b[0mmsg\u001b[0m\u001b[1;33m)\u001b[0m\u001b[1;33m\u001b[0m\u001b[0m\n\u001b[0m\u001b[0;32m    287\u001b[0m \u001b[1;33m\u001b[0m\u001b[0m\n\u001b[0;32m    288\u001b[0m             \u001b[1;31m# consolidate\u001b[0m\u001b[1;33m\u001b[0m\u001b[1;33m\u001b[0m\u001b[0m\n",
      "\u001b[1;31mTypeError\u001b[0m: cannot concatenate object of type \"<class 'numpy.ndarray'>\"; only pd.Series, pd.DataFrame, and pd.Panel (deprecated) objs are valid"
     ]
    }
   ],
   "source": [
    "x_train = train_test[:train_df.shape[0]]\n",
    "ni = Null_Importance(x_train, y_train)\n",
    "actual_imp_df = ni.get_feature_importances()\n",
    "null_imp_df = ni.build_null_distribution()\n",
    "# feature = '用户网龄交往圈人数'\n",
    "# ni.display_distributions(actual_imp_df, null_imp_df, feature)\n",
    "ni.score(actual_imp_df, null_imp_df)\n",
    "ni.check_importance_unrelated_feature(actual_imp_df, null_imp_df)"
   ]
  },
  {
   "cell_type": "code",
   "execution_count": 11,
   "metadata": {
    "ExecuteTime": {
     "end_time": "2019-03-20T06:41:50.084941Z",
     "start_time": "2019-03-20T06:41:49.964946Z"
    }
   },
   "outputs": [],
   "source": [
    "# feats = ['当月通话交往圈人数', '用户账单当月总费用（元）', '用户最近一次缴费距今时长（月）', '是否4G不健康客户', '余额+缴费费用',\n",
    "#         '用户网龄（月）', '当月网购类应用使用次数', '最近一次缴费是否超过平均消费额', '用户账单当月总费用（元）_mean', '用户话费敏感度',\n",
    "#         '缴费用户最近一次缴费金额（元）', '当月账单是否超过平均消费额', '当月金融理财类应用使用总次数', '当月视频播放类应用使用次数', \n",
    "#         '用户年龄', '用户近6个月平均消费值（元）', '体育馆_电影_景点']\n",
    "# train_test = train_test[feats]\n",
    "# x_train, y_train, x_test = train_test[:train_df.shape[0]\n",
    "#                                       ], y_train, train_test[train_df.shape[0]:]"
   ]
  },
  {
   "cell_type": "markdown",
   "metadata": {},
   "source": [
    "# Raw "
   ]
  },
  {
   "cell_type": "markdown",
   "metadata": {},
   "source": [
    "## LGB"
   ]
  },
  {
   "cell_type": "markdown",
   "metadata": {},
   "source": [
    "### mae"
   ]
  },
  {
   "cell_type": "code",
   "execution_count": 72,
   "metadata": {
    "ExecuteTime": {
     "end_time": "2019-03-21T14:38:42.319362Z",
     "start_time": "2019-03-21T14:38:42.218593Z"
    }
   },
   "outputs": [],
   "source": [
    "lgb_params = {\n",
    "    'objective': 'regression_l1',\n",
    "    'boosting_type': 'gbdt',\n",
    "    'num_leaves': 31,\n",
    "    'reg_alpha': 2.2,\n",
    "    'reg_lambda': 1.5,\n",
    "    'max_depth': 8,\n",
    "    'n_estimators': 2000,\n",
    "    'subsample': 0.8,\n",
    "    'colsample_bytree': 0.7,\n",
    "    'subsample_freq': 1,\n",
    "    'learning_rate': 0.014,\n",
    "    'random_state': 2019, \n",
    "    'n_jobs': 4\n",
    "}\n",
    "\n",
    "lgb = LGBMRegressor\n",
    "lgbwrapper = GbmWrapper(lgb, params=lgb_params)"
   ]
  },
  {
   "cell_type": "code",
   "execution_count": 73,
   "metadata": {
    "ExecuteTime": {
     "end_time": "2019-03-21T14:41:09.700733Z",
     "start_time": "2019-03-21T14:38:42.321319Z"
    }
   },
   "outputs": [
    {
     "name": "stdout",
     "output_type": "stream",
     "text": [
      "lightGBM\n"
     ]
    },
    {
     "name": "stderr",
     "output_type": "stream",
     "text": [
      "C:\\Users\\hotheat\\Anaconda3\\lib\\site-packages\\sklearn\\model_selection\\_split.py:605: Warning: The least populated class in y has only 1 members, which is too few. The minimum number of members in any class cannot be less than n_splits=10.\n",
      "  % (min_groups, self.n_splits)), Warning)\n"
     ]
    },
    {
     "name": "stdout",
     "output_type": "stream",
     "text": [
      "1: Train 0.0719199 Val 0.0619443/0.0619443\n",
      "--------------------------------------------------\n",
      "2: Train 0.0717598 Val 0.0624619/0.0622031\n",
      "--------------------------------------------------\n",
      "3: Train 0.0712956 Val 0.0642252/0.0628771\n",
      "--------------------------------------------------\n",
      "4: Train 0.0718368 Val 0.0630484/0.0629199\n",
      "--------------------------------------------------\n",
      "5: Train 0.0705306 Val 0.0636247/0.0630609\n",
      "--------------------------------------------------\n",
      "6: Train 0.0713391 Val 0.0651213/0.0634043\n",
      "--------------------------------------------------\n",
      "7: Train 0.0715687 Val 0.0644912/0.0635596\n",
      "--------------------------------------------------\n",
      "8: Train 0.0709094 Val 0.0647408/0.0637072\n",
      "--------------------------------------------------\n",
      "9: Train 0.0716101 Val 0.0642735/0.0637701\n",
      "--------------------------------------------------\n",
      "10: Train 0.0712375 Val 0.0645746/0.0638506\n",
      "--------------------------------------------------\n",
      "Train:  [0.07191991714198265, 0.07175980904898252, 0.0712955953996393, 0.07183675337476035, 0.07053062898046783, 0.07133909190595242, 0.07156866079678693, 0.07090941657319706, 0.07161014675917712, 0.07123749274822798]\n",
      "Val:  [0.06194428042299382, 0.06246191359047849, 0.06422522089293968, 0.06304838034426619, 0.06362465379115664, 0.06512134293360332, 0.06449123748737937, 0.06474077541337281, 0.06427348529459635, 0.0645745762209607]\n",
      "--------------------------------------------------\n",
      "lightGBM Train0.07140_Test0.06385\n",
      "\n",
      "\n"
     ]
    }
   ],
   "source": [
    "lgb_train, lgb_test = ModelRun(n_fold=10).run_oof(\n",
    "    lgbwrapper, x_train.values, y_train.values, x_test.values)"
   ]
  },
  {
   "cell_type": "markdown",
   "metadata": {},
   "source": [
    "### mse"
   ]
  },
  {
   "cell_type": "markdown",
   "metadata": {},
   "source": [
    "MSE 对于两端极值的预测较为准确,而 MAE 则对于中间的预测更为准确,所以对函数预测的极值附近进行简单的加权修正"
   ]
  },
  {
   "cell_type": "code",
   "execution_count": 10,
   "metadata": {
    "ExecuteTime": {
     "end_time": "2019-03-20T08:43:44.507002Z",
     "start_time": "2019-03-20T08:39:56.251580Z"
    }
   },
   "outputs": [
    {
     "name": "stdout",
     "output_type": "stream",
     "text": [
      "lightGBM\n"
     ]
    },
    {
     "name": "stderr",
     "output_type": "stream",
     "text": [
      "C:\\Users\\hotheat\\Anaconda3\\lib\\site-packages\\sklearn\\model_selection\\_split.py:605: Warning: The least populated class in y has only 1 members, which is too few. The minimum number of members in any class cannot be less than n_splits=10.\n",
      "  % (min_groups, self.n_splits)), Warning)\n"
     ]
    },
    {
     "name": "stdout",
     "output_type": "stream",
     "text": [
      "mae 预测 [668.67099596 637.66120226 644.76568407 651.66233356 611.86345531]\n",
      "mse 预测 [668.49597265 636.11108648 647.71663402 648.55944509 610.21000549]\n",
      "合并后的预测 [668.60098663 637.04115595 645.94606405 650.42117817 611.20207539]\n",
      "y 实际值 [664 648 656 612 628]\n",
      "1: Train 0.0721273 Val 0.0622355/0.0622355\n",
      "--------------------------------------------------\n",
      "mae 预测 [665.92364537 607.72620888 507.54329447 504.12280803 598.61584644]\n",
      "mse 预测 [663.15569301 603.4084025  509.10199079 501.99420825 598.39838373]\n",
      "合并后的预测 [664.81646443 605.99908633 508.166773   503.27136812 598.52886136]\n",
      "y 实际值 [692 600 523 480 600]\n",
      "2: Train 0.0721354 Val 0.0626879/0.0624617\n",
      "--------------------------------------------------\n",
      "mae 预测 [658.82592521 670.72709478 503.46725745 507.632146   558.39897656]\n",
      "mse 预测 [659.0722146  672.70468093 495.40638346 509.28735511 559.08092962]\n",
      "合并后的预测 [658.92444097 671.51812924 500.24290786 508.29422964 558.67175778]\n",
      "y 实际值 [692 698 523 523 523]\n",
      "3: Train 0.0702001 Val 0.0643745/0.0630993\n",
      "--------------------------------------------------\n",
      "mae 预测 [539.23881327 540.74532932 581.0401685  545.19508198 556.73683968]\n",
      "mse 预测 [530.80775142 534.37838386 581.35379986 535.7536006  555.96342156]\n",
      "合并后的预测 [535.86638853 538.19855114 581.16562105 541.41848942 556.42747243]\n",
      "y 实际值 [500 480 523 523 523]\n",
      "4: Train 0.0717319 Val 0.0632107/0.0631271\n",
      "--------------------------------------------------\n",
      "mae 预测 [571.30532411 515.76643397 525.35760768 675.28498819 507.97042142]\n",
      "mse 预测 [550.12898427 513.36059287 522.58761754 675.36300724 502.72755309]\n",
      "合并后的预测 [562.83478817 514.80409753 524.24961163 675.31619581 505.87327409]\n",
      "y 实际值 [480 523 507 700 500]\n",
      "5: Train 0.0708859 Val 0.0637305/0.0632478\n",
      "--------------------------------------------------\n",
      "mae 预测 [525.26389986 499.67412164 588.36282926 507.95902997 544.70094011]\n",
      "mse 预测 [524.0797579  494.28631362 578.22702752 508.02751651 535.17091679]\n",
      "合并后的预测 [524.79024307 497.51899844 584.30850856 507.98642459 540.88893078]\n",
      "y 实际值 [501 480 497 509 497]\n",
      "6: Train 0.0710408 Val 0.0654940/0.0636222\n",
      "--------------------------------------------------\n",
      "mae 预测 [498.18739864 538.91944445 492.52760513 523.98150887 571.64419902]\n",
      "mse 预测 [491.9865298  540.65363469 494.1402842  518.3244662  563.12448304]\n",
      "合并后的预测 [495.70705111 539.61312055 493.17267676 521.7186918  568.23631262]\n",
      "y 实际值 [480 500 492 492 552]\n",
      "7: Train 0.0709372 Val 0.0645806/0.0637591\n",
      "--------------------------------------------------\n",
      "mae 预测 [481.12454012 540.70816778 533.84621954 582.87138683 647.74794188]\n",
      "mse 预测 [472.57816876 539.05718977 530.16694085 583.24888484 645.20009737]\n",
      "合并后的预测 [477.70599157 540.04777658 532.37450806 583.02238603 646.72880407]\n",
      "y 实际值 [479 527 527 500 685]\n",
      "8: Train 0.0700208 Val 0.0650388/0.0639191\n",
      "--------------------------------------------------\n",
      "mae 预测 [514.22827658 524.59301456 528.34803887 669.00854984 525.91449086]\n",
      "mse 预测 [512.83884484 516.84302236 521.64524377 672.68683492 520.78070504]\n",
      "合并后的预测 [513.67250389 521.49301768 525.66692083 670.47986387 523.86097653]\n",
      "y 实际值 [479 500 492 685 497]\n",
      "9: Train 0.0705344 Val 0.0644835/0.0639818\n",
      "--------------------------------------------------\n",
      "mae 预测 [535.46556718 500.50290352 526.04483337 510.72155128 552.42285921]\n",
      "mse 预测 [525.51183123 492.87561046 528.73684393 503.8893114  555.9283528 ]\n",
      "合并后的预测 [531.4840728  497.4519863  527.12163759 507.98865532 553.82505665]\n",
      "y 实际值 [479 485 468 497 500]\n",
      "10: Train 0.0709342 Val 0.0645177/0.0640354\n",
      "--------------------------------------------------\n",
      "Train:  [0.07212728449905349, 0.07213544636765098, 0.07020014255331504, 0.07173189801825582, 0.07088588704826462, 0.07104078865265694, 0.07093717454710173, 0.07002075769326904, 0.07053439802704044, 0.07093424977348754]\n",
      "Val:  [0.06223549235041245, 0.06268791672208969, 0.06437449933313126, 0.0632106852176991, 0.06373050596505198, 0.065493967420851, 0.06458057860036025, 0.06503880778626077, 0.06448353253368466, 0.064517743685787]\n",
      "--------------------------------------------------\n",
      "lightGBM Train0.07105_Test0.06404\n",
      "\n",
      "\n"
     ]
    }
   ],
   "source": [
    "lgb_params2 = {\n",
    "    'objective': 'regression_l2',\n",
    "    'boosting_type':'gbdt', \n",
    "    'num_leaves': 31,\n",
    "    'reg_alpha': 1.2,\n",
    "    'reg_lambda': 1.8,\n",
    "    'max_depth': 8,\n",
    "    'n_estimators': 2000, \n",
    "    'subsample': 0.8,\n",
    "    'colsample_bytree': 0.7,\n",
    "    'subsample_freq': 1, \n",
    "    'learning_rate':0.024,\n",
    "    'random_state': 2019,\n",
    "    'n_jobs':-1\n",
    "}\n",
    "\n",
    "lgb2 = LGBMRegressor\n",
    "lgbwrapper2 = GbmWrapper(lgb2, params=lgb_params2, eval_metric='rsme')\n",
    "lgb_train, lgb_test = ModelRun(n_fold=10).run_oof(\n",
    "    lgbwrapper, x_train.values, y_train.values, x_test.values, clf2=lgbwrapper2)"
   ]
  },
  {
   "cell_type": "markdown",
   "metadata": {},
   "source": [
    "### 贝叶斯优化"
   ]
  },
  {
   "cell_type": "markdown",
   "metadata": {},
   "source": [
    "#### MAE"
   ]
  },
  {
   "cell_type": "code",
   "execution_count": 11,
   "metadata": {
    "ExecuteTime": {
     "end_time": "2019-03-20T08:43:44.821161Z",
     "start_time": "2019-03-20T08:43:44.510993Z"
    }
   },
   "outputs": [],
   "source": [
    "lgb_adj_params = {\n",
    "    'min_child_samples': (10, 30), 'min_split_gain': (0.001, 0.1), 'num_leaves': (24, 45),\n",
    "    'feature_fraction': (0.1, 0.9), 'bagging_fraction': (0.8, 1), 'max_depth': (4, 8.99),\n",
    "    'lambda_l1': (0, 5), 'lambda_l2': (0, 3), 'min_child_weight': (5, 50)\n",
    "}"
   ]
  },
  {
   "cell_type": "code",
   "execution_count": 12,
   "metadata": {
    "ExecuteTime": {
     "end_time": "2019-03-20T08:43:44.964783Z",
     "start_time": "2019-03-20T08:43:44.823162Z"
    }
   },
   "outputs": [],
   "source": [
    "# lgbwrapper.optimize(x_train.values, y_train.values, param_grid=lgb_adj_params, eval_func='mae')"
   ]
  },
  {
   "cell_type": "markdown",
   "metadata": {},
   "source": [
    "#### MSE"
   ]
  },
  {
   "cell_type": "code",
   "execution_count": 13,
   "metadata": {
    "ExecuteTime": {
     "end_time": "2019-03-20T08:43:45.111390Z",
     "start_time": "2019-03-20T08:43:44.967774Z"
    }
   },
   "outputs": [],
   "source": [
    "# lgbwrapper2.optimize(x_train.values, y_train.values, param_grid=adj_params, eval_func='rmse')"
   ]
  },
  {
   "cell_type": "markdown",
   "metadata": {},
   "source": [
    "### 优化后的 LGB"
   ]
  },
  {
   "cell_type": "markdown",
   "metadata": {},
   "source": [
    "#### bayes mae"
   ]
  },
  {
   "cell_type": "code",
   "execution_count": 74,
   "metadata": {
    "ExecuteTime": {
     "end_time": "2019-03-21T14:43:57.570490Z",
     "start_time": "2019-03-21T14:41:29.039328Z"
    },
    "scrolled": true
   },
   "outputs": [
    {
     "name": "stdout",
     "output_type": "stream",
     "text": [
      "lightGBM\n"
     ]
    },
    {
     "name": "stderr",
     "output_type": "stream",
     "text": [
      "C:\\Users\\hotheat\\Anaconda3\\lib\\site-packages\\sklearn\\model_selection\\_split.py:605: Warning: The least populated class in y has only 1 members, which is too few. The minimum number of members in any class cannot be less than n_splits=10.\n",
      "  % (min_groups, self.n_splits)), Warning)\n"
     ]
    },
    {
     "name": "stdout",
     "output_type": "stream",
     "text": [
      "1: Train 0.0715537 Val 0.0620311/0.0620311\n",
      "--------------------------------------------------\n",
      "2: Train 0.0713971 Val 0.0625846/0.0623079\n",
      "--------------------------------------------------\n",
      "3: Train 0.0706668 Val 0.0640942/0.0629033\n",
      "--------------------------------------------------\n",
      "4: Train 0.0711641 Val 0.0630153/0.0629313\n",
      "--------------------------------------------------\n",
      "5: Train 0.0702109 Val 0.0637589/0.0630968\n",
      "--------------------------------------------------\n",
      "6: Train 0.0710266 Val 0.0649855/0.0634116\n",
      "--------------------------------------------------\n",
      "7: Train 0.0711210 Val 0.0643748/0.0635492\n",
      "--------------------------------------------------\n",
      "8: Train 0.0709856 Val 0.0649001/0.0637181\n",
      "--------------------------------------------------\n",
      "9: Train 0.0712462 Val 0.0644851/0.0638033\n",
      "--------------------------------------------------\n",
      "10: Train 0.0702919 Val 0.0644030/0.0638633\n",
      "--------------------------------------------------\n",
      "Train:  [0.07155367653794524, 0.07139708607798202, 0.07066680257962583, 0.07116411199350461, 0.0702109481494868, 0.07102658316915651, 0.07112096065532231, 0.07098556069635924, 0.07124619827504239, 0.07029191752065472]\n",
      "Val:  [0.062031093979336226, 0.06258461877460694, 0.06409421916896721, 0.06301534000174043, 0.06375887204310404, 0.0649855074171028, 0.06437482177595269, 0.0649001387733988, 0.06448514255619163, 0.06440299913762405]\n",
      "--------------------------------------------------\n",
      "lightGBM Train0.07097_Test0.06386\n",
      "\n",
      "\n"
     ]
    }
   ],
   "source": [
    "## raw\n",
    "lgb_params = {\n",
    "    'objective': 'regression_l1',\n",
    "    'boosting_type': 'gbdt',\n",
    "    'num_leaves': 42,\n",
    "    'reg_alpha': 3.403,\n",
    "    'reg_lambda': 1.559,\n",
    "    'max_depth': 6,\n",
    "    'n_estimators': 2000,\n",
    "    'subsample': 0.81,\n",
    "    'colsample_bytree': 0.3,\n",
    "    'subsample_freq': 1,\n",
    "    'learning_rate': 0.014,\n",
    "    'n_jobs': 4,\n",
    "    'min_child_weight': 37.31,\n",
    "    'min_child_samples': 14,\n",
    "    'min_split_gain': 0.02059,\n",
    "}\n",
    "# lgb_params = {\n",
    "#     'objective': 'regression_l1',\n",
    "#     'boosting_type': 'gbdt',\n",
    "#     'num_leaves': 34,\n",
    "#     'reg_alpha': 1.9394,\n",
    "#     'reg_lambda': 2.3,\n",
    "#     'max_depth': 6,\n",
    "#     'n_estimators': 2000,\n",
    "#     'subsample': 0.85453,\n",
    "#     'colsample_bytree': 0.7304,\n",
    "#     'subsample_freq': 1,\n",
    "#     'learning_rate': 0.014,\n",
    "#     'n_jobs': 4,\n",
    "#     'min_child_weight': 19.445,\n",
    "#     'min_child_samples': 16,\n",
    "#     'min_split_gain': 0.059,\n",
    "# }\n",
    "# lgb_params = {\n",
    "#     'objective': 'regression_l1',\n",
    "#     'boosting_type': 'gbdt',\n",
    "#     'num_leaves': 26,\n",
    "#     'reg_alpha': 1.992,\n",
    "#     'reg_lambda': 2.288,\n",
    "#     'max_depth': 7,\n",
    "#     'n_estimators': 2000,\n",
    "#     'subsample': 0.8368,\n",
    "#     'colsample_bytree': 0.4129,\n",
    "#     'subsample_freq': 1,\n",
    "#     'learning_rate': 0.014,\n",
    "#     'random_state': 2019, \n",
    "#     'min_child_weight': 18.53,\n",
    "#     'min_child_samples': 17,\n",
    "#     'min_split_gain': 0.06066,\n",
    "#     'n_jobs': 4\n",
    "# }\n",
    "# lgb_params = {\n",
    "#     'objective': 'regression_l1',\n",
    "#     'boosting_type': 'gbdt',\n",
    "#     'num_leaves': 42,\n",
    "#     'reg_alpha': 2.0498,\n",
    "#     'reg_lambda': 1.0645,\n",
    "#     'max_depth': 7,\n",
    "#     'n_estimators': 2000,\n",
    "#     'subsample': 0.85982,\n",
    "#     'colsample_bytree':0.442578,\n",
    "#     'subsample_freq': 1,\n",
    "#     'learning_rate': 0.014,\n",
    "#     'random_state': 2019, \n",
    "#     'n_jobs': 4,\n",
    "#     'min_child_weight': 28.8263,\n",
    "#     'min_child_samples': 23,\n",
    "#     'min_split_gain':0.046097,\n",
    "# }\n",
    "lgb = LGBMRegressor\n",
    "lgbwrapper = GbmWrapper(lgb, params=lgb_params)\n",
    "lgb_train, lgb_test = ModelRun(n_fold=10).run_oof(\n",
    "    lgbwrapper, x_train.values, y_train.values, x_test.values)"
   ]
  },
  {
   "cell_type": "markdown",
   "metadata": {},
   "source": [
    "#### bayes mse"
   ]
  },
  {
   "cell_type": "code",
   "execution_count": 9,
   "metadata": {
    "ExecuteTime": {
     "end_time": "2019-03-21T03:14:09.979604Z",
     "start_time": "2019-03-21T03:10:54.471114Z"
    },
    "scrolled": true
   },
   "outputs": [
    {
     "name": "stdout",
     "output_type": "stream",
     "text": [
      "lightGBM\n"
     ]
    },
    {
     "name": "stderr",
     "output_type": "stream",
     "text": [
      "C:\\Users\\hotheat\\Anaconda3\\lib\\site-packages\\sklearn\\model_selection\\_split.py:605: Warning: The least populated class in y has only 1 members, which is too few. The minimum number of members in any class cannot be less than n_splits=10.\n",
      "  % (min_groups, self.n_splits)), Warning)\n"
     ]
    },
    {
     "name": "stdout",
     "output_type": "stream",
     "text": [
      "mae 预测 [549.96056025 651.03886364 655.93467949 637.04785359 643.41099003]\n",
      "mse 预测 [541.03673755 652.32556515 654.93085818 636.16629409 647.27274425]\n",
      "合并后的预测 [546.39103117 651.55354425 655.53315097 636.69522979 644.95569172]\n",
      "y 实际值 [530 643 649 648 656]\n",
      "1: Train 0.0715774 Val 0.0622645/0.0622645\n",
      "--------------------------------------------------\n",
      "mae 预测 [667.20525821 602.48038138 606.60437534 508.53255483 504.46216494]\n",
      "mse 预测 [664.79311845 602.93143146 604.68950824 506.66959959 504.6244867 ]\n",
      "合并后的预测 [666.24040231 602.66080141 605.8384285  507.78737273 504.52709365]\n",
      "y 实际值 [692 600 600 523 480]\n",
      "2: Train 0.0714341 Val 0.0627798/0.0625222\n",
      "--------------------------------------------------\n",
      "mae 预测 [504.00792367 671.44564781 503.94025564 507.81304142 557.48628242]\n",
      "mse 预测 [501.29371674 672.9433853  496.45319309 510.3692712  559.76917015]\n",
      "合并后的预测 [502.9222409  672.04474281 500.94543062 508.83553333 558.39943751]\n",
      "y 实际值 [480 698 523 523 523]\n",
      "3: Train 0.0708111 Val 0.0643829/0.0631424\n",
      "--------------------------------------------------\n",
      "mae 预测 [532.30857242 540.33146106 584.81348995 547.59717823 559.43452584]\n",
      "mse 预测 [531.44329752 535.3842494  581.92217795 539.01770336 553.62521628]\n",
      "合并后的预测 [531.96246246 538.3525764  583.65696515 544.16538828 557.11080201]\n",
      "y 实际值 [500 480 523 523 523]\n",
      "4: Train 0.0712139 Val 0.0631849/0.0631530\n",
      "--------------------------------------------------\n",
      "mae 预测 [573.7240314  515.59661224 535.22344524 674.42727148 506.97880938]\n",
      "mse 预测 [548.58482931 511.0683138  521.34439663 674.73990066 502.09814941]\n",
      "合并后的预测 [563.66835056 513.78529286 529.67182579 674.55232315 505.02654539]\n",
      "y 实际值 [480 523 507 700 500]\n",
      "5: Train 0.0697038 Val 0.0639504/0.0633125\n",
      "--------------------------------------------------\n",
      "mae 预测 [617.1435637  498.51973583 588.38162931 508.6937265  548.47124728]\n",
      "mse 预测 [615.0426006  495.34066692 576.98141466 506.43233059 539.20235268]\n",
      "合并后的预测 [616.30317846 497.24810826 583.82154345 507.78916813 544.76368944]\n",
      "y 实际值 [500 480 497 509 497]\n",
      "6: Train 0.0707028 Val 0.0653050/0.0636446\n",
      "--------------------------------------------------\n",
      "mae 预测 [500.16400509 541.83591827 486.89359951 529.69857381 567.58020936]\n",
      "mse 预测 [492.9053968  543.60043579 495.74179996 517.41461718 560.60374973]\n",
      "合并后的预测 [497.26056178 542.54172528 490.43287969 524.78499116 564.78962551]\n",
      "y 实际值 [480 500 492 492 552]\n",
      "7: Train 0.0708750 Val 0.0645043/0.0637674\n",
      "--------------------------------------------------\n",
      "mae 预测 [477.71252247 540.26178136 537.84798479 580.15862946 647.94544267]\n",
      "mse 预测 [472.79158799 540.30365704 528.52429809 584.25104931 646.74292614]\n",
      "合并后的预测 [475.74414868 540.27853163 534.11851011 581.7955974  647.46443606]\n",
      "y 实际值 [479 527 527 500 685]\n",
      "8: Train 0.0703749 Val 0.0650730/0.0639306\n",
      "--------------------------------------------------\n",
      "mae 预测 [518.71889985 521.6172963  521.96757736 670.59346708 510.64652187]\n",
      "mse 预测 [512.42359971 517.56533348 518.35492554 673.84260697 514.90215731]\n",
      "合并后的预测 [516.2007798  519.99651117 520.52251663 671.89312304 512.34877605]\n",
      "y 实际值 [479 500 492 685 497]\n",
      "9: Train 0.0695694 Val 0.0645379/0.0639981\n",
      "--------------------------------------------------\n",
      "mae 预测 [539.87191823 497.86967572 666.96069375 515.4622259  515.54123017]\n",
      "mse 预测 [527.73299993 493.35501597 665.7258165  504.3604748  507.62038887]\n",
      "合并后的预测 [535.01635091 496.06381182 666.46674285 511.02152546 512.37289365]\n",
      "y 实际值 [479 485 685 497 527]\n",
      "10: Train 0.0709936 Val 0.0645131/0.0640496\n",
      "--------------------------------------------------\n",
      "Train:  [0.07157742184316399, 0.07143412280371507, 0.07081114220595187, 0.0712139247150735, 0.06970376925876763, 0.07070278538579505, 0.07087498824831814, 0.07037490561595915, 0.06956937701026267, 0.07099363644971311]\n",
      "Val:  [0.06226453323942221, 0.06277983408009617, 0.06438287850696717, 0.06318485521361022, 0.06395039901992632, 0.06530497924812485, 0.06450429118563064, 0.06507304132739389, 0.06453785029545414, 0.06451313789023012]\n",
      "--------------------------------------------------\n",
      "lightGBM Train0.07073_Test0.06405\n",
      "\n",
      "\n"
     ]
    }
   ],
   "source": [
    "# lgb_params2 = {\n",
    "#     'objective': 'regression_l2',\n",
    "#     'boosting_type':'gbdt', \n",
    "#     'num_leaves': 34,\n",
    "#     'reg_alpha': 4.746,\n",
    "#     'reg_lambda': 0.21,\n",
    "#     'max_depth': 4,\n",
    "#     'n_estimators': 2000, \n",
    "#     'subsample': 0.837,\n",
    "#     'colsample_bytree': 0.5471,\n",
    "#     'subsample_freq': 1, \n",
    "#     'learning_rate':0.024,\n",
    "#     'random_state': 2019,\n",
    "#     'n_jobs':-1,\n",
    "#     'min_child_weight': 28.75,\n",
    "#     'min_child_samples': 17,\n",
    "#     'min_split_gain': 0.06959,\n",
    "# }\n",
    "\n",
    "# lgb_params2 = {\n",
    "#     'objective': 'regression_l2',\n",
    "#     'boosting_type':'gbdt', \n",
    "#     'num_leaves': 27,\n",
    "#     'reg_alpha': 1.699,\n",
    "#     'reg_lambda': 0.1323,\n",
    "#     'max_depth': 4,\n",
    "#     'n_estimators': 2000, \n",
    "#     'subsample': 0.8055,\n",
    "#     'colsample_bytree': 0.5546,\n",
    "#     'subsample_freq': 1, \n",
    "#     'learning_rate':0.024,\n",
    "#     'random_state': 2019,\n",
    "#     'n_jobs':-1,\n",
    "#     'min_child_weight': 16.4,\n",
    "#     'min_child_samples': 29,\n",
    "#     'min_split_gain': 0.1,\n",
    "# }\n",
    "# lgb_params2 = {\n",
    "#     'objective': 'regression_l2',\n",
    "#     'boosting_type':'gbdt', \n",
    "#     'num_leaves': 31,\n",
    "#     'reg_alpha': 1.2,\n",
    "#     'reg_lambda': 1.8,\n",
    "#     'max_depth': 8,\n",
    "#     'n_estimators': 2000, \n",
    "#     'subsample': 0.8,\n",
    "#     'colsample_bytree': 0.7,\n",
    "#     'subsample_freq': 1, \n",
    "#     'learning_rate':0.024,\n",
    "#     'random_state': 2019,\n",
    "#     'n_jobs':-1,\n",
    "#     'min_child_weight': 16.4,\n",
    "#     'min_child_samples': 29,\n",
    "#     'min_split_gain': 0.1,\n",
    "# }\n",
    "lgb_params2 = {\n",
    "    'objective': 'regression_l2',\n",
    "    'boosting_type':'gbdt', \n",
    "    'num_leaves': 31,\n",
    "    'reg_alpha': 1.2,\n",
    "    'reg_lambda': 1.8,\n",
    "    'max_depth': 8,\n",
    "    'n_estimators': 2000, \n",
    "    'subsample': 0.8,\n",
    "    'colsample_bytree': 0.7,\n",
    "    'subsample_freq': 1, \n",
    "    'learning_rate':0.024,\n",
    "    'random_state': 2019,\n",
    "    'n_jobs':-1,\n",
    "    'min_child_weight': 16.4,\n",
    "    'min_child_samples': 29,\n",
    "    'min_split_gain': 0.1,\n",
    "}\n",
    "# lgb_params2 = {\n",
    "#     'objective': 'regression_l2',\n",
    "#     'boosting_type':'gbdt', \n",
    "#     'num_leaves': 31,\n",
    "#     'reg_alpha': 2.49159,\n",
    "#     'reg_lambda': 0.76465,\n",
    "#     'max_depth': 6,\n",
    "#     'n_estimators': 2000, \n",
    "#     'subsample': 0.93483,\n",
    "#     'colsample_bytree': 0.38017,\n",
    "#     'subsample_freq': 1, \n",
    "#     'learning_rate':0.024,\n",
    "#     'random_state': 2019,\n",
    "#     'n_jobs':-1,\n",
    "#     'min_child_weight': 18.98874,\n",
    "#     'min_child_samples': 25,\n",
    "#     'min_split_gain': 0.03027,\n",
    "# }\n",
    "lgb2 = LGBMRegressor\n",
    "lgbwrapper2 = GbmWrapper(lgb2, params=lgb_params2, eval_metric='rsme')\n",
    "lgb_train, lgb_test = ModelRun(n_fold=10).run_oof(\n",
    "    lgbwrapper, x_train.values, y_train.values, x_test.values, clf2=lgbwrapper2)"
   ]
  },
  {
   "cell_type": "code",
   "execution_count": 10,
   "metadata": {
    "ExecuteTime": {
     "end_time": "2019-03-21T03:14:10.363753Z",
     "start_time": "2019-03-21T03:14:09.986585Z"
    }
   },
   "outputs": [],
   "source": [
    "lgb_res = pd.DataFrame({'train_pred':lgb_train, 'test_pred':lgb_test})\n",
    "lgb_res.to_csv('lgb_mse_res.csv', index=False)"
   ]
  },
  {
   "cell_type": "markdown",
   "metadata": {},
   "source": [
    "### logY"
   ]
  },
  {
   "cell_type": "markdown",
   "metadata": {},
   "source": [
    "#### mae"
   ]
  },
  {
   "cell_type": "code",
   "execution_count": 11,
   "metadata": {
    "ExecuteTime": {
     "end_time": "2019-03-21T03:16:31.773274Z",
     "start_time": "2019-03-21T03:14:10.363753Z"
    }
   },
   "outputs": [
    {
     "name": "stdout",
     "output_type": "stream",
     "text": [
      "lightGBM\n"
     ]
    },
    {
     "name": "stderr",
     "output_type": "stream",
     "text": [
      "C:\\Users\\hotheat\\Anaconda3\\lib\\site-packages\\sklearn\\model_selection\\_split.py:605: Warning: The least populated class in y has only 1 members, which is too few. The minimum number of members in any class cannot be less than n_splits=10.\n",
      "  % (min_groups, self.n_splits)), Warning)\n"
     ]
    },
    {
     "name": "stdout",
     "output_type": "stream",
     "text": [
      "1: Train 0.0713253 Val 0.0621898/0.0621898\n",
      "--------------------------------------------------\n",
      "2: Train 0.0712977 Val 0.0626846/0.0624372\n",
      "--------------------------------------------------\n",
      "3: Train 0.0711436 Val 0.0642911/0.0630552\n",
      "--------------------------------------------------\n",
      "4: Train 0.0712755 Val 0.0630079/0.0630434\n",
      "--------------------------------------------------\n",
      "5: Train 0.0704604 Val 0.0637845/0.0631916\n",
      "--------------------------------------------------\n",
      "6: Train 0.0709589 Val 0.0651816/0.0635233\n",
      "--------------------------------------------------\n",
      "7: Train 0.0710406 Val 0.0645305/0.0636672\n",
      "--------------------------------------------------\n",
      "8: Train 0.0709891 Val 0.0649891/0.0638324\n",
      "--------------------------------------------------\n",
      "9: Train 0.0710757 Val 0.0645864/0.0639162\n",
      "--------------------------------------------------\n",
      "10: Train 0.0707403 Val 0.0645235/0.0639769\n",
      "--------------------------------------------------\n",
      "Train:  [0.07132527879359424, 0.07129770816625816, 0.07114361470675933, 0.07127549587367618, 0.07046038774948923, 0.07095889015369947, 0.07104061761063206, 0.07098909362215694, 0.0710757429672797, 0.07074027391777406]\n",
      "Val:  [0.06218979009067371, 0.06268464889315767, 0.06429108461777633, 0.06300790675040495, 0.06378451430617382, 0.06518162483868116, 0.0645304978311764, 0.06498907345139358, 0.06458644860448495, 0.06452351680664181]\n",
      "--------------------------------------------------\n",
      "lightGBM Train0.07103_Test0.06398\n",
      "\n",
      "\n"
     ]
    }
   ],
   "source": [
    "lgb = LGBMRegressor\n",
    "lgbwrapper = GbmWrapper(lgb, params=lgb_params)\n",
    "lgb_log_train, lgb_log_test = ModelRun(n_fold=10).run_oof(\n",
    "    lgbwrapper, x_train.values, y_train.values, x_test.values, logy=True)"
   ]
  },
  {
   "cell_type": "markdown",
   "metadata": {},
   "source": [
    "#### mse"
   ]
  },
  {
   "cell_type": "code",
   "execution_count": 12,
   "metadata": {
    "ExecuteTime": {
     "end_time": "2019-03-21T03:19:53.926162Z",
     "start_time": "2019-03-21T03:16:31.773274Z"
    },
    "scrolled": false
   },
   "outputs": [
    {
     "name": "stdout",
     "output_type": "stream",
     "text": [
      "lightGBM\n"
     ]
    },
    {
     "name": "stderr",
     "output_type": "stream",
     "text": [
      "C:\\Users\\hotheat\\Anaconda3\\lib\\site-packages\\sklearn\\model_selection\\_split.py:605: Warning: The least populated class in y has only 1 members, which is too few. The minimum number of members in any class cannot be less than n_splits=10.\n",
      "  % (min_groups, self.n_splits)), Warning)\n"
     ]
    },
    {
     "name": "stdout",
     "output_type": "stream",
     "text": [
      "mae 预测 [669.16719316 652.13197184 656.67423027 644.40310521 611.3060823 ]\n",
      "mse 预测 [668.36590752 652.60579482 655.06814241 647.54254379 609.67881003]\n",
      "合并后的预测 [668.84667891 652.32150103 656.03179513 645.65888064 610.65517339]\n",
      "y 实际值 [664. 643. 649. 656. 628.]\n",
      "1: Train 0.0711954 Val 0.0623050/0.0623050\n",
      "--------------------------------------------------\n",
      "mae 预测 [668.39640748 604.29741093 606.29894559 508.87185349 503.32013368]\n",
      "mse 预测 [665.52715813 604.73225609 603.8433499  504.57592414 498.35392788]\n",
      "合并后的预测 [667.24870774 604.47134899 605.31670731 507.15348175 501.33365136]\n",
      "y 实际值 [692. 600. 600. 523. 480.]\n",
      "2: Train 0.0713767 Val 0.0628803/0.0625926\n",
      "--------------------------------------------------\n",
      "mae 预测 [502.61132795 671.22680293 503.60803758 509.64307743 558.76460453]\n",
      "mse 预测 [498.30256323 672.98024729 494.28904138 508.36319508 555.73112423]\n",
      "合并后的预测 [500.88782206 671.92818067 499.8804391  509.13112449 557.55121241]\n",
      "y 实际值 [480. 698. 523. 523. 523.]\n",
      "3: Train 0.0706228 Val 0.0643645/0.0631833\n",
      "--------------------------------------------------\n",
      "mae 预测 [532.20089812 541.83158678 581.66929604 548.0786224  559.52111037]\n",
      "mse 预测 [528.26916886 535.31444886 581.54788003 540.77211018 553.91567947]\n",
      "合并后的预测 [530.62820641 539.22473161 581.62072964 545.15601751 557.27893801]\n",
      "y 实际值 [500. 480. 523. 523. 523.]\n",
      "4: Train 0.0710856 Val 0.0631463/0.0631740\n",
      "--------------------------------------------------\n",
      "mae 预测 [571.05541143 515.14196844 533.8772608  674.28238609 508.64175736]\n",
      "mse 预测 [546.01608255 511.34992254 520.92428632 674.3698551  501.12185682]\n",
      "合并后的预测 [561.03967988 513.62515008 528.69607101 674.31737369 505.63379715]\n",
      "y 实际值 [480. 523. 507. 700. 500.]\n",
      "5: Train 0.0702359 Val 0.0638707/0.0633134\n",
      "--------------------------------------------------\n",
      "mae 预测 [617.95490703 499.30667662 587.0971747  507.12553717 547.28242127]\n",
      "mse 预测 [612.07683442 497.9566328  575.44989936 507.85373711 535.54796091]\n",
      "合并后的预测 [615.60367799 498.76665909 582.43826456 507.41681714 542.58863713]\n",
      "y 实际值 [500. 480. 497. 509. 497.]\n",
      "6: Train 0.0710204 Val 0.0653981/0.0636608\n",
      "--------------------------------------------------\n",
      "mae 预测 [496.03779656 539.45572367 486.85949232 530.59188496 566.05825965]\n",
      "mse 预测 [492.48405927 542.49969535 493.91932738 518.21269161 558.80650291]\n",
      "合并后的预测 [494.61630164 540.67331234 489.68342634 525.64020762 563.15755695]\n",
      "y 实际值 [480. 500. 492. 492. 552.]\n",
      "7: Train 0.0705740 Val 0.0646226/0.0637982\n",
      "--------------------------------------------------\n",
      "mae 预测 [479.48755089 539.01736962 536.15104363 577.62409262 646.64768926]\n",
      "mse 预测 [470.03241108 540.91092301 529.6468967  584.64199641 646.17360869]\n",
      "合并后的预测 [475.70549496 539.77479098 533.54938486 580.43125414 646.45805703]\n",
      "y 实际值 [479. 527. 527. 500. 685.]\n",
      "8: Train 0.0702440 Val 0.0649924/0.0639475\n",
      "--------------------------------------------------\n",
      "mae 预测 [517.72207928 523.2322437  521.61985689 669.4394785  528.76014836]\n",
      "mse 预测 [514.36682082 519.41396605 521.12643175 673.63456195 517.80247883]\n",
      "合并后的预测 [516.3799759  521.70493264 521.42248684 671.11751188 524.37708055]\n",
      "y 实际值 [479. 500. 492. 685. 497.]\n",
      "9: Train 0.0704697 Val 0.0646140/0.0640216\n",
      "--------------------------------------------------\n",
      "mae 预测 [540.04838712 498.72347916 666.23469127 514.82224936 515.81022625]\n",
      "mse 预测 [526.0248391  491.08082089 665.68698955 504.97797999 508.36689692]\n",
      "合并后的预测 [534.43896791 495.66641585 666.01561058 510.88454161 512.83289452]\n",
      "y 实际值 [479. 485. 685. 497. 527.]\n",
      "10: Train 0.0704041 Val 0.0645484/0.0640742\n",
      "--------------------------------------------------\n",
      "Train:  [0.07119539073608876, 0.0713766933379464, 0.07062283743143084, 0.0710855699107632, 0.07023588386592948, 0.07102038566638846, 0.07057398502325499, 0.07024404488773302, 0.0704696708408459, 0.07040405875427527]\n",
      "Val:  [0.06230499581468433, 0.062880268379449, 0.06436454533868113, 0.06314626957166583, 0.06387068528746356, 0.06539808775497291, 0.06462263776191156, 0.06499243169672156, 0.06461404633308421, 0.06454843216959545]\n",
      "--------------------------------------------------\n",
      "lightGBM Train0.07072_Test0.06407\n",
      "\n",
      "\n"
     ]
    }
   ],
   "source": [
    "lgb = LGBMRegressor\n",
    "lgbwrapper2 = GbmWrapper(lgb, params=lgb_params2)\n",
    "lgb_log_train, lgb_log_test = ModelRun(n_fold=10).run_oof(\n",
    "    lgbwrapper, x_train.values, y_train.values, x_test.values, logy=True, clf2=lgbwrapper2)"
   ]
  },
  {
   "cell_type": "markdown",
   "metadata": {},
   "source": [
    "#### 优化后的 mae 和 mse"
   ]
  },
  {
   "cell_type": "markdown",
   "metadata": {},
   "source": [
    "##### mae"
   ]
  },
  {
   "cell_type": "code",
   "execution_count": 18,
   "metadata": {
    "ExecuteTime": {
     "end_time": "2019-03-21T02:17:55.410954Z",
     "start_time": "2019-03-21T02:17:55.307233Z"
    }
   },
   "outputs": [],
   "source": [
    "# lgb_params = {\n",
    "#     'objective': 'regression_l1',\n",
    "#     'boosting_type': 'gbdt',\n",
    "#     'num_leaves': 44,\n",
    "#     'reg_alpha': 0.33299,\n",
    "#     'reg_lambda': 2.50384,\n",
    "#     'max_depth': 9,\n",
    "#     'n_estimators': 2000,\n",
    "#     'subsample': 0.8481,\n",
    "#     'colsample_bytree':0.51985,\n",
    "#     'subsample_freq': 1,\n",
    "#     'learning_rate': 0.014,\n",
    "#     'random_state': 2019, \n",
    "#     'n_jobs': 4,\n",
    "#     'min_child_weight': 49.9182,\n",
    "#     'min_child_samples': 21,\n",
    "#     'min_split_gain':0.029678,\n",
    "# }\n",
    "# lgb_params = {\n",
    "#     'objective': 'regression_l1',\n",
    "#     'boosting_type': 'gbdt',\n",
    "#     'num_leaves': 44,\n",
    "#     'reg_alpha': 0.33299,\n",
    "#     'reg_lambda': 2.50384,\n",
    "#     'max_depth': 9,\n",
    "#     'n_estimators': 2000,\n",
    "#     'subsample': 0.8481,\n",
    "#     'colsample_bytree':0.51985,\n",
    "#     'subsample_freq': 1,\n",
    "#     'learning_rate': 0.014,\n",
    "#     'random_state': 2019, \n",
    "#     'n_jobs': 4,\n",
    "#     'min_child_weight': 49.9182,\n",
    "#     'min_child_samples': 21,\n",
    "#     'min_split_gain':0.029678,\n",
    "# }\n",
    "# lgb = LGBMRegressor\n",
    "# lgbwrapper = GbmWrapper(lgb, params=lgb_params)\n",
    "# lgb_train, lgb_test = ModelRun(n_fold=10).run_oof(\n",
    "#     lgbwrapper, x_train.values, y_train.values, x_test.values)"
   ]
  },
  {
   "cell_type": "markdown",
   "metadata": {},
   "source": [
    "##### mse"
   ]
  },
  {
   "cell_type": "code",
   "execution_count": 19,
   "metadata": {
    "ExecuteTime": {
     "end_time": "2019-03-21T02:17:56.360718Z",
     "start_time": "2019-03-21T02:17:56.261986Z"
    }
   },
   "outputs": [],
   "source": [
    "# lgb_params2 = {\n",
    "#     'objective': 'regression_l2',\n",
    "#     'boosting_type': 'gbdt',\n",
    "#     'num_leaves': 26,\n",
    "#     'reg_alpha': 1.92,\n",
    "#     'reg_lambda': 1.2,\n",
    "#     'max_depth': 8,\n",
    "#     'n_estimators': 2000,\n",
    "#     'subsample': 0.8819,\n",
    "#     'colsample_bytree': 0.5818,\n",
    "#     'subsample_freq': 1,\n",
    "#     'learning_rate': 0.024,\n",
    "#     'random_state': 2019,\n",
    "#     'n_jobs': -1,\n",
    "#     'min_child_weight': 20.058,\n",
    "#     'min_child_samples': 15,\n",
    "#     'min_split_gain': 0.03394,\n",
    "# }\n",
    "# lgb_params2 = {\n",
    "#     'objective': 'regression_l2',\n",
    "#     'boosting_type': 'gbdt',\n",
    "#     'num_leaves': 39,\n",
    "#     'reg_alpha': 3.87649,\n",
    "#     'reg_lambda': 0.14744,\n",
    "#     'max_depth': 4,\n",
    "#     'n_estimators': 2000,\n",
    "#     'subsample':0.91682,\n",
    "#     'colsample_bytree':0.48433,\n",
    "#     'subsample_freq': 1,\n",
    "#     'learning_rate': 0.024,\n",
    "#     'random_state': 2019,\n",
    "#     'n_jobs': -1,\n",
    "#     'min_child_weight': 28.5998,\n",
    "#     'min_child_samples': 22,\n",
    "#     'min_split_gain': 0.03166,\n",
    "# }\n",
    "# lgb = LGBMRegressor\n",
    "# lgbwrapper2 = GbmWrapper(lgb, params=lgb_params2)\n",
    "# lgb_log_train, lgb_log_test = ModelRun(n_fold=10).run_oof(\n",
    "#     lgbwrapper, x_train.values, y_train.values, x_test.values, logy=True, clf2=lgbwrapper2)"
   ]
  },
  {
   "cell_type": "code",
   "execution_count": 13,
   "metadata": {
    "ExecuteTime": {
     "end_time": "2019-03-21T03:19:54.307605Z",
     "start_time": "2019-03-21T03:19:53.928157Z"
    }
   },
   "outputs": [],
   "source": [
    "lgb_logy_res = pd.DataFrame({'train_pred':lgb_log_train, 'test_pred':lgb_log_test})\n",
    "lgb_logy_res.to_csv('lgb_mse_logy_res.csv', index=False)"
   ]
  },
  {
   "cell_type": "markdown",
   "metadata": {},
   "source": [
    "## XGB"
   ]
  },
  {
   "cell_type": "markdown",
   "metadata": {},
   "source": [
    "### MAE"
   ]
  },
  {
   "cell_type": "code",
   "execution_count": 19,
   "metadata": {
    "ExecuteTime": {
     "end_time": "2019-03-20T03:39:23.050803Z",
     "start_time": "2019-03-20T03:39:22.931687Z"
    }
   },
   "outputs": [],
   "source": [
    "xgb_params = {'eta': 0.03, 'max_depth': 8, 'subsample': 0.75, 'colsample_bytree': 0.75,\n",
    "              'objective': 'reg:linear', 'eval_metric': 'mae', 'silent': True, 'nthread': 4,\n",
    "              'lambda': 1.5, 'alpha': 2.2, 'min_child_weight': 12, 'max_delta_step': 2}"
   ]
  },
  {
   "cell_type": "code",
   "execution_count": 20,
   "metadata": {
    "ExecuteTime": {
     "end_time": "2019-03-20T03:39:23.150372Z",
     "start_time": "2019-03-20T03:39:23.052755Z"
    }
   },
   "outputs": [],
   "source": [
    "xgbwrapper1 = XgbWrapper(xgb_params)\n",
    "# xgb_train, xgb_test = ModelRun(n_fold=10).run_oof(\n",
    "#     xgbwrapper1, x_train.values, y_train.values, x_test.values)"
   ]
  },
  {
   "cell_type": "markdown",
   "metadata": {},
   "source": [
    "### MSE"
   ]
  },
  {
   "cell_type": "code",
   "execution_count": 21,
   "metadata": {
    "ExecuteTime": {
     "end_time": "2019-03-20T03:39:23.250388Z",
     "start_time": "2019-03-20T03:39:23.150372Z"
    }
   },
   "outputs": [],
   "source": [
    "xgb_params2={'eta': 0.02, 'max_depth': 8, 'subsample': 0.8, 'colsample_bytree': 0.8, \n",
    "          'objective': 'reg:linear', 'eval_metric': 'rmse', 'silent': True, 'nthread': 4,\n",
    "           'lambda':1.8, 'alpha':1.2, 'min_child_weight':12, 'max_delta_step':2, }\n",
    "\n",
    "xgbwrapper2 = XgbWrapper(xgb_params2)\n",
    "# xgb_train2, xgb_test2 = ModelRun(n_fold=10).run_oof(\n",
    "#     xgbwrapper1, x_train.values, y_train.values, x_test.values, clf2=xgbwrapper2)"
   ]
  },
  {
   "cell_type": "markdown",
   "metadata": {},
   "source": [
    "### 调整后的参数"
   ]
  },
  {
   "cell_type": "markdown",
   "metadata": {},
   "source": [
    "#### mae"
   ]
  },
  {
   "cell_type": "code",
   "execution_count": 22,
   "metadata": {
    "ExecuteTime": {
     "end_time": "2019-03-20T03:39:23.370536Z",
     "start_time": "2019-03-20T03:39:23.250388Z"
    }
   },
   "outputs": [],
   "source": [
    "xgb_params_mae = {\n",
    "    'eta': 0.09966, 'max_depth': 9, 'subsample': 0.8649, 'colsample_bytree': 0.2877, 'num_leaves': 43,\n",
    "    'objective': 'reg:linear', 'eval_metric': 'mae', 'silent': True, 'nthread': 8, 'min_child_samples': 15,\n",
    "    'lambda': 0.12355, 'alpha': 3.191, 'min_child_weight': 6.12, 'max_delta_step': 2, 'gamma': 2.72728,\n",
    "}\n",
    "# xgbwrapper_mae = XgbWrapper(xgb_params_mae)\n",
    "# xgbwrapper_mae.optimize(x_train.values, y_train.values, param_grid=xgb_adj_params, eval_func='mae')"
   ]
  },
  {
   "cell_type": "markdown",
   "metadata": {},
   "source": [
    "#### mse"
   ]
  },
  {
   "cell_type": "code",
   "execution_count": 23,
   "metadata": {
    "ExecuteTime": {
     "end_time": "2019-03-20T03:39:23.510195Z",
     "start_time": "2019-03-20T03:39:23.370536Z"
    }
   },
   "outputs": [],
   "source": [
    "xgb_params_mse = {\n",
    "    'eta': 0.28716, 'max_depth': 8, 'subsample': 0.51, 'colsample_bytree': 0.54773, 'num_leaves':41,\n",
    "    'objective': 'reg:linear', 'eval_metric': 'rmse', 'silent': True, 'nthread': 8, 'min_child_samples': 17,\n",
    "    'lambda': 1.5069, 'alpha': 3.45311, 'min_child_weight': 36.447, 'max_delta_step': 2, 'gamma': 5.96818,\n",
    "}\n",
    "# xgbwrapper_mse = XgbWrapper(xgb_params_mse)\n",
    "# xgbwrapper_mse.optimize(x_train.values, y_train.values, param_grid=xgb_adj_params, eval_func='rmse')"
   ]
  },
  {
   "cell_type": "code",
   "execution_count": 24,
   "metadata": {
    "ExecuteTime": {
     "end_time": "2019-03-20T03:41:35.730516Z",
     "start_time": "2019-03-20T03:41:35.630019Z"
    }
   },
   "outputs": [],
   "source": [
    "### XGBoost Train0.07971_Test0.06323"
   ]
  },
  {
   "cell_type": "markdown",
   "metadata": {},
   "source": [
    "# Stacking"
   ]
  },
  {
   "cell_type": "code",
   "execution_count": 45,
   "metadata": {
    "ExecuteTime": {
     "end_time": "2019-03-22T01:43:08.031071Z",
     "start_time": "2019-03-22T01:43:07.848396Z"
    }
   },
   "outputs": [],
   "source": [
    "lgb_res = pd.read_csv('lgb_mse_res.csv')\n",
    "lgb_logy_res = pd.read_csv('lgb_mse_logy_res.csv')\n",
    "xgb_res = pd.read_csv('xgb_mse.res.csv')"
   ]
  },
  {
   "cell_type": "code",
   "execution_count": 46,
   "metadata": {
    "ExecuteTime": {
     "end_time": "2019-03-22T01:43:08.534676Z",
     "start_time": "2019-03-22T01:43:08.432950Z"
    }
   },
   "outputs": [],
   "source": [
    "train_stack = np.vstack(\n",
    "    (lgb_res['train_pred'].values, lgb_logy_res['train_pred'].values, xgb_res['train_pred'].values)).transpose()\n",
    "test_stack = np.vstack(\n",
    "    (lgb_res['test_pred'].values, lgb_logy_res['test_pred'].values, xgb_res['test_pred'].values)).transpose()"
   ]
  },
  {
   "cell_type": "code",
   "execution_count": 47,
   "metadata": {
    "ExecuteTime": {
     "end_time": "2019-03-22T01:43:10.257386Z",
     "start_time": "2019-03-22T01:43:09.761713Z"
    }
   },
   "outputs": [
    {
     "name": "stdout",
     "output_type": "stream",
     "text": [
      "BayesianRidge\n"
     ]
    },
    {
     "name": "stderr",
     "output_type": "stream",
     "text": [
      "C:\\Users\\hotheat\\Anaconda3\\lib\\site-packages\\sklearn\\model_selection\\_split.py:605: Warning: The least populated class in y has only 1 members, which is too few. The minimum number of members in any class cannot be less than n_splits=10.\n",
      "  % (min_groups, self.n_splits)), Warning)\n"
     ]
    },
    {
     "name": "stdout",
     "output_type": "stream",
     "text": [
      "1: Train 0.0640946 Val 0.0621014/0.0621014\n",
      "--------------------------------------------------\n",
      "2: Train 0.0640343 Val 0.0625958/0.0623486\n",
      "--------------------------------------------------\n",
      "3: Train 0.0638421 Val 0.0642601/0.0629858\n",
      "--------------------------------------------------\n",
      "4: Train 0.0639824 Val 0.0630619/0.0630048\n",
      "--------------------------------------------------\n",
      "5: Train 0.0638901 Val 0.0637844/0.0631607\n",
      "--------------------------------------------------\n",
      "6: Train 0.0637416 Val 0.0652853/0.0635148\n",
      "--------------------------------------------------\n",
      "7: Train 0.0638371 Val 0.0642184/0.0636154\n",
      "--------------------------------------------------\n",
      "8: Train 0.0637646 Val 0.0649717/0.0637849\n",
      "--------------------------------------------------\n",
      "9: Train 0.0638290 Val 0.0643651/0.0638494\n",
      "--------------------------------------------------\n",
      "10: Train 0.0638224 Val 0.0643652/0.0639009\n",
      "--------------------------------------------------\n",
      "Train:  [0.06409457543696803, 0.0640343483822475, 0.06384212910914372, 0.06398239704607159, 0.06389005761420481, 0.06374161845958526, 0.06383713031914269, 0.06376455743793737, 0.06382896236403968, 0.06382244046049759]\n",
      "Val:  [0.062101418241793674, 0.06259584655724663, 0.0642601271642296, 0.06306191702958616, 0.06378442334395923, 0.06528529760398889, 0.0642184220826458, 0.06497167113088435, 0.06436513005824879, 0.0643651924797732]\n",
      "--------------------------------------------------\n",
      "BayesianRidge Train0.06388_Test0.06390\n",
      "\n",
      "\n"
     ]
    }
   ],
   "source": [
    "bayesridgle_wrapper = SklearnWrapper(linear_model.BayesianRidge())\n",
    "train_stack_pred, test_stack_pred = ModelRun(n_fold=10).run_oof(\n",
    "    bayesridgle_wrapper, train_stack, y_train.values, test_stack)"
   ]
  },
  {
   "cell_type": "markdown",
   "metadata": {},
   "source": [
    "stacking 的结果不是很理想"
   ]
  },
  {
   "cell_type": "markdown",
   "metadata": {},
   "source": [
    "# 最终结果"
   ]
  },
  {
   "cell_type": "code",
   "execution_count": 48,
   "metadata": {
    "ExecuteTime": {
     "end_time": "2019-03-22T01:43:13.817048Z",
     "start_time": "2019-03-22T01:43:13.720278Z"
    }
   },
   "outputs": [],
   "source": [
    "train_preds = pd.DataFrame(np.column_stack((train_stack, y_train.values.reshape(-1, 1))), columns=['lgb', 'lgb_logy', 'xgb', 'y'])\n",
    "test_preds = pd.DataFrame(np.column_stack(test_stack), columns=['lgb', 'lgb_logy', 'xgb', 'y'])"
   ]
  },
  {
   "cell_type": "markdown",
   "metadata": {},
   "source": [
    "## 针对 lgb，lgb_logy, 和 xgb 预测结果的差值做特征"
   ]
  },
  {
   "cell_type": "code",
   "execution_count": 14,
   "metadata": {
    "ExecuteTime": {
     "end_time": "2019-03-22T01:00:36.960659Z",
     "start_time": "2019-03-22T01:00:36.804433Z"
    }
   },
   "outputs": [
    {
     "name": "stderr",
     "output_type": "stream",
     "text": [
      "子目录或文件 submission 已经存在。\n"
     ]
    }
   ],
   "source": [
    "!mkdir submission"
   ]
  },
  {
   "cell_type": "code",
   "execution_count": 53,
   "metadata": {
    "ExecuteTime": {
     "end_time": "2019-03-22T01:48:26.765874Z",
     "start_time": "2019-03-22T01:48:26.648951Z"
    }
   },
   "outputs": [],
   "source": [
    "train_preds['lgblogy_diff'] = abs(train_preds['lgb_logy'] - train_preds['y'])\n",
    "train_preds['xgbdiff'] = abs(train_preds['xgb'] - train_preds['y'])\n",
    "train_preds['mindiff'] = abs(train_preds[['lgb', 'lgb_logy', 'xgb']].min(1)-train_preds['y'])\n",
    "train_preds['lgbdiff'] = abs(train_preds['lgb']-train_preds['y'])"
   ]
  },
  {
   "cell_type": "code",
   "execution_count": 54,
   "metadata": {
    "ExecuteTime": {
     "end_time": "2019-03-22T01:48:27.712584Z",
     "start_time": "2019-03-22T01:48:27.185944Z"
    }
   },
   "outputs": [
    {
     "name": "stdout",
     "output_type": "stream",
     "text": [
      "lgb \t 0.06391919234529914\n",
      "lgb_logy \t 0.06394950437161123\n",
      "xgb \t 0.06327199651826901\n",
      "rank 5000\n",
      "94697.58368925682 95095.03073120117 94713.43906695438\n",
      "43710.580993652344\n",
      "41725.699895428\n"
     ]
    },
    {
     "name": "stderr",
     "output_type": "stream",
     "text": [
      "C:\\Users\\hotheat\\Anaconda3\\lib\\site-packages\\ipykernel_launcher.py:22: SettingWithCopyWarning: \n",
      "A value is trying to be set on a copy of a slice from a DataFrame.\n",
      "Try using .loc[row_indexer,col_indexer] = value instead\n",
      "\n",
      "See the caveats in the documentation: http://pandas.pydata.org/pandas-docs/stable/indexing.html#indexing-view-versus-copy\n",
      "C:\\Users\\hotheat\\Anaconda3\\lib\\site-packages\\ipykernel_launcher.py:23: SettingWithCopyWarning: \n",
      "A value is trying to be set on a copy of a slice from a DataFrame.\n",
      "Try using .loc[row_indexer,col_indexer] = value instead\n",
      "\n",
      "See the caveats in the documentation: http://pandas.pydata.org/pandas-docs/stable/indexing.html#indexing-view-versus-copy\n",
      "C:\\Users\\hotheat\\Anaconda3\\lib\\site-packages\\ipykernel_launcher.py:24: SettingWithCopyWarning: \n",
      "A value is trying to be set on a copy of a slice from a DataFrame.\n",
      "Try using .loc[row_indexer,col_indexer] = value instead\n",
      "\n",
      "See the caveats in the documentation: http://pandas.pydata.org/pandas-docs/stable/indexing.html#indexing-view-versus-copy\n"
     ]
    },
    {
     "data": {
      "text/plain": [
       "<matplotlib.axes._subplots.AxesSubplot at 0x27e085c2588>"
      ]
     },
     "execution_count": 54,
     "metadata": {},
     "output_type": "execute_result"
    },
    {
     "data": {
      "image/png": "[encoded data removed]",
      "text/plain": [
       "<Figure size 432x288 with 1 Axes>"
      ]
     },
     "metadata": {},
     "output_type": "display_data"
    }
   ],
   "source": [
    "for i in ['lgb', 'lgb_logy', 'xgb']:\n",
    "    print(i, '\\t', 1/(1+mean_absolute_error(train_preds[i], train_preds['y'])))\n",
    "\n",
    "low_bins = np.arange(0, 51000, 5000)[1:]\n",
    "\n",
    "low_res = np.zeros((4, len(low_bins)))\n",
    "\n",
    "\n",
    "def eval_function(array1, y):\n",
    "    return 1/(1+mean_absolute_error(array1, y))\n",
    "\n",
    "\n",
    "train_preds['min'] = train_preds[['lgb', 'lgb_logy', 'xgb']].min(1)\n",
    "train_preds['rank'] = train_preds['lgb_logy'].rank()\n",
    "\n",
    "for i, r in enumerate(low_bins):\n",
    "    low = train_preds.loc[train_preds['rank'] < r, :]\n",
    "    le = [eval_function(low[j], low['y'])\n",
    "          for j in ['lgb', 'lgb_logy', 'xgb', 'min']]\n",
    "    if i == 0:\n",
    "        print('rank', r)\n",
    "        low['logdiff'] = abs(low['lgb_logy'] - low['y'])\n",
    "        low['xgbdiff'] = abs(low['xgb'] - low['y'])\n",
    "        low['mindiff'] = abs(low['min']-low['y'])\n",
    "        print(low['logdiff'].sum(),\n",
    "              low['xgbdiff'].sum(), low['mindiff'].sum())\n",
    "        # logdiff 与 xgb 差异较小的和\n",
    "        print(abs(low[low['logdiff'] > low['xgbdiff']]['xgb'] -\n",
    "                  low[low['logdiff'] > low['xgbdiff']]['y']).sum())\n",
    "        print(abs(low[low['logdiff'] < low['xgbdiff']]['lgb_logy'] -\n",
    "                  low[low['logdiff'] < low['xgbdiff']]['y']).sum())\n",
    "    low_res[:, i] = le\n",
    "\n",
    "low_res_df = pd.DataFrame(low_res, columns=low_bins, index=[\n",
    "                          'lgb', 'lgb_logy', 'xgb', 'min']).T\n",
    "# 横坐标代表阈值，纵坐标代表小于这个阈值的预测值的损失\n",
    "low_res_df.plot()"
   ]
  },
  {
   "cell_type": "markdown",
   "metadata": {},
   "source": [
    "不同阈值下，还是 lgb_logy 的表现最好。低阈值时，xgb 和 min 的损失与 lgb_logy 的差距不是很明显。"
   ]
  },
  {
   "cell_type": "markdown",
   "metadata": {},
   "source": [
    "以与 label 差距最小的取值对 min，lgb, lgblogy, xgb 结果重新做一次分类"
   ]
  },
  {
   "cell_type": "code",
   "execution_count": 77,
   "metadata": {
    "ExecuteTime": {
     "end_time": "2019-03-22T01:54:45.324053Z",
     "start_time": "2019-03-22T01:54:45.217180Z"
    }
   },
   "outputs": [],
   "source": [
    "m = np.array(['lgb_logy', 'xgb', 'lgb'])\n",
    "min_models = m[train_preds[['lgblogy_diff', 'xgbdiff', 'lgbdiff']].values.argmin(1)]\n",
    "train_preds['target'] = min_models"
   ]
  },
  {
   "cell_type": "code",
   "execution_count": 78,
   "metadata": {
    "ExecuteTime": {
     "end_time": "2019-03-22T01:54:46.461268Z",
     "start_time": "2019-03-22T01:54:46.352590Z"
    }
   },
   "outputs": [
    {
     "data": {
      "text/html": [
       "<div>\n",
       "<style scoped>\n",
       "    .dataframe tbody tr th:only-of-type {\n",
       "        vertical-align: middle;\n",
       "    }\n",
       "\n",
       "    .dataframe tbody tr th {\n",
       "        vertical-align: top;\n",
       "    }\n",
       "\n",
       "    .dataframe thead th {\n",
       "        text-align: right;\n",
       "    }\n",
       "</style>\n",
       "<table border=\"1\" class=\"dataframe\">\n",
       "  <thead>\n",
       "    <tr style=\"text-align: right;\">\n",
       "      <th></th>\n",
       "      <th>lgb</th>\n",
       "      <th>lgb_logy</th>\n",
       "      <th>xgb</th>\n",
       "      <th>y</th>\n",
       "      <th>lgblogy_diff</th>\n",
       "      <th>xgbdiff</th>\n",
       "      <th>mindiff</th>\n",
       "      <th>lgbdiff</th>\n",
       "      <th>min</th>\n",
       "      <th>rank</th>\n",
       "      <th>target</th>\n",
       "    </tr>\n",
       "  </thead>\n",
       "  <tbody>\n",
       "    <tr>\n",
       "      <th>0</th>\n",
       "      <td>668.857645</td>\n",
       "      <td>669.167193</td>\n",
       "      <td>670.995361</td>\n",
       "      <td>664.0</td>\n",
       "      <td>5.167193</td>\n",
       "      <td>6.995361</td>\n",
       "      <td>4.857645</td>\n",
       "      <td>4.857645</td>\n",
       "      <td>668.857645</td>\n",
       "      <td>48130.0</td>\n",
       "      <td>lgb</td>\n",
       "    </tr>\n",
       "    <tr>\n",
       "      <th>1</th>\n",
       "      <td>549.960560</td>\n",
       "      <td>547.483326</td>\n",
       "      <td>538.716553</td>\n",
       "      <td>530.0</td>\n",
       "      <td>17.483326</td>\n",
       "      <td>8.716553</td>\n",
       "      <td>8.716553</td>\n",
       "      <td>19.960560</td>\n",
       "      <td>538.716553</td>\n",
       "      <td>2858.0</td>\n",
       "      <td>xgb</td>\n",
       "    </tr>\n",
       "    <tr>\n",
       "      <th>2</th>\n",
       "      <td>651.038864</td>\n",
       "      <td>652.131972</td>\n",
       "      <td>654.624084</td>\n",
       "      <td>643.0</td>\n",
       "      <td>9.131972</td>\n",
       "      <td>11.624084</td>\n",
       "      <td>8.038864</td>\n",
       "      <td>8.038864</td>\n",
       "      <td>651.038864</td>\n",
       "      <td>41013.0</td>\n",
       "      <td>lgb</td>\n",
       "    </tr>\n",
       "    <tr>\n",
       "      <th>3</th>\n",
       "      <td>655.934679</td>\n",
       "      <td>656.674230</td>\n",
       "      <td>659.238159</td>\n",
       "      <td>649.0</td>\n",
       "      <td>7.674230</td>\n",
       "      <td>10.238159</td>\n",
       "      <td>6.934679</td>\n",
       "      <td>6.934679</td>\n",
       "      <td>655.934679</td>\n",
       "      <td>43477.0</td>\n",
       "      <td>lgb</td>\n",
       "    </tr>\n",
       "    <tr>\n",
       "      <th>4</th>\n",
       "      <td>637.047854</td>\n",
       "      <td>637.231204</td>\n",
       "      <td>638.749695</td>\n",
       "      <td>648.0</td>\n",
       "      <td>10.768796</td>\n",
       "      <td>9.250305</td>\n",
       "      <td>10.952146</td>\n",
       "      <td>10.952146</td>\n",
       "      <td>637.047854</td>\n",
       "      <td>30880.0</td>\n",
       "      <td>xgb</td>\n",
       "    </tr>\n",
       "  </tbody>\n",
       "</table>\n",
       "</div>"
      ],
      "text/plain": [
       "          lgb    lgb_logy         xgb      y  lgblogy_diff    xgbdiff  \\\n",
       "0  668.857645  669.167193  670.995361  664.0      5.167193   6.995361   \n",
       "1  549.960560  547.483326  538.716553  530.0     17.483326   8.716553   \n",
       "2  651.038864  652.131972  654.624084  643.0      9.131972  11.624084   \n",
       "3  655.934679  656.674230  659.238159  649.0      7.674230  10.238159   \n",
       "4  637.047854  637.231204  638.749695  648.0     10.768796   9.250305   \n",
       "\n",
       "     mindiff    lgbdiff         min     rank target  \n",
       "0   4.857645   4.857645  668.857645  48130.0    lgb  \n",
       "1   8.716553  19.960560  538.716553   2858.0    xgb  \n",
       "2   8.038864   8.038864  651.038864  41013.0    lgb  \n",
       "3   6.934679   6.934679  655.934679  43477.0    lgb  \n",
       "4  10.952146  10.952146  637.047854  30880.0    xgb  "
      ]
     },
     "execution_count": 78,
     "metadata": {},
     "output_type": "execute_result"
    }
   ],
   "source": [
    "train_preds.head()"
   ]
  },
  {
   "cell_type": "code",
   "execution_count": 79,
   "metadata": {
    "ExecuteTime": {
     "end_time": "2019-03-22T01:54:48.008655Z",
     "start_time": "2019-03-22T01:54:47.901987Z"
    }
   },
   "outputs": [
    {
     "data": {
      "text/html": [
       "<div>\n",
       "<style scoped>\n",
       "    .dataframe tbody tr th:only-of-type {\n",
       "        vertical-align: middle;\n",
       "    }\n",
       "\n",
       "    .dataframe tbody tr th {\n",
       "        vertical-align: top;\n",
       "    }\n",
       "\n",
       "    .dataframe thead th {\n",
       "        text-align: right;\n",
       "    }\n",
       "</style>\n",
       "<table border=\"1\" class=\"dataframe\">\n",
       "  <thead>\n",
       "    <tr style=\"text-align: right;\">\n",
       "      <th></th>\n",
       "      <th>lgblogy_diff</th>\n",
       "      <th>xgbdiff</th>\n",
       "      <th>lgbdiff</th>\n",
       "      <th>target</th>\n",
       "    </tr>\n",
       "  </thead>\n",
       "  <tbody>\n",
       "    <tr>\n",
       "      <th>0</th>\n",
       "      <td>5.167193</td>\n",
       "      <td>6.995361</td>\n",
       "      <td>4.857645</td>\n",
       "      <td>lgb</td>\n",
       "    </tr>\n",
       "    <tr>\n",
       "      <th>1</th>\n",
       "      <td>17.483326</td>\n",
       "      <td>8.716553</td>\n",
       "      <td>19.960560</td>\n",
       "      <td>xgb</td>\n",
       "    </tr>\n",
       "    <tr>\n",
       "      <th>2</th>\n",
       "      <td>9.131972</td>\n",
       "      <td>11.624084</td>\n",
       "      <td>8.038864</td>\n",
       "      <td>lgb</td>\n",
       "    </tr>\n",
       "    <tr>\n",
       "      <th>3</th>\n",
       "      <td>7.674230</td>\n",
       "      <td>10.238159</td>\n",
       "      <td>6.934679</td>\n",
       "      <td>lgb</td>\n",
       "    </tr>\n",
       "    <tr>\n",
       "      <th>4</th>\n",
       "      <td>10.768796</td>\n",
       "      <td>9.250305</td>\n",
       "      <td>10.952146</td>\n",
       "      <td>xgb</td>\n",
       "    </tr>\n",
       "    <tr>\n",
       "      <th>5</th>\n",
       "      <td>11.596895</td>\n",
       "      <td>11.029785</td>\n",
       "      <td>12.589010</td>\n",
       "      <td>xgb</td>\n",
       "    </tr>\n",
       "    <tr>\n",
       "      <th>6</th>\n",
       "      <td>40.562197</td>\n",
       "      <td>39.927368</td>\n",
       "      <td>40.073386</td>\n",
       "      <td>xgb</td>\n",
       "    </tr>\n",
       "    <tr>\n",
       "      <th>7</th>\n",
       "      <td>16.693918</td>\n",
       "      <td>15.962769</td>\n",
       "      <td>16.698736</td>\n",
       "      <td>xgb</td>\n",
       "    </tr>\n",
       "    <tr>\n",
       "      <th>8</th>\n",
       "      <td>41.935709</td>\n",
       "      <td>41.164001</td>\n",
       "      <td>40.500871</td>\n",
       "      <td>lgb</td>\n",
       "    </tr>\n",
       "    <tr>\n",
       "      <th>9</th>\n",
       "      <td>29.845979</td>\n",
       "      <td>30.357483</td>\n",
       "      <td>29.903450</td>\n",
       "      <td>lgb_logy</td>\n",
       "    </tr>\n",
       "  </tbody>\n",
       "</table>\n",
       "</div>"
      ],
      "text/plain": [
       "   lgblogy_diff    xgbdiff    lgbdiff    target\n",
       "0      5.167193   6.995361   4.857645       lgb\n",
       "1     17.483326   8.716553  19.960560       xgb\n",
       "2      9.131972  11.624084   8.038864       lgb\n",
       "3      7.674230  10.238159   6.934679       lgb\n",
       "4     10.768796   9.250305  10.952146       xgb\n",
       "5     11.596895  11.029785  12.589010       xgb\n",
       "6     40.562197  39.927368  40.073386       xgb\n",
       "7     16.693918  15.962769  16.698736       xgb\n",
       "8     41.935709  41.164001  40.500871       lgb\n",
       "9     29.845979  30.357483  29.903450  lgb_logy"
      ]
     },
     "execution_count": 79,
     "metadata": {},
     "output_type": "execute_result"
    }
   ],
   "source": [
    "train_preds[['lgblogy_diff', 'xgbdiff', 'lgbdiff', 'target']].head(10)"
   ]
  },
  {
   "cell_type": "code",
   "execution_count": 80,
   "metadata": {
    "ExecuteTime": {
     "end_time": "2019-03-22T01:54:48.245868Z",
     "start_time": "2019-03-22T01:54:48.131214Z"
    }
   },
   "outputs": [
    {
     "data": {
      "text/plain": [
       "xgb         21843\n",
       "lgb_logy    14138\n",
       "lgb         14019\n",
       "dtype: int64"
      ]
     },
     "execution_count": 80,
     "metadata": {},
     "output_type": "execute_result"
    }
   ],
   "source": [
    "pd.Series(min_models).value_counts()"
   ]
  },
  {
   "cell_type": "code",
   "execution_count": 81,
   "metadata": {
    "ExecuteTime": {
     "end_time": "2019-03-22T01:54:51.403980Z",
     "start_time": "2019-03-22T01:54:50.685889Z"
    }
   },
   "outputs": [
    {
     "name": "stderr",
     "output_type": "stream",
     "text": [
      "C:\\Users\\hotheat\\Anaconda3\\lib\\site-packages\\scipy\\stats\\stats.py:1713: FutureWarning: Using a non-tuple sequence for multidimensional indexing is deprecated; use `arr[tuple(seq)]` instead of `arr[seq]`. In the future this will be interpreted as an array index, `arr[np.array(seq)]`, which will result either in an error or a different result.\n",
      "  return np.add.reduce(sorted[indexer] * weights, axis=axis) / sumval\n"
     ]
    },
    {
     "data": {
      "text/plain": [
       "<matplotlib.legend.Legend at 0x27e11ee1e48>"
      ]
     },
     "execution_count": 81,
     "metadata": {},
     "output_type": "execute_result"
    },
    {
     "data": {
      "image/png": "[encoded data removed]",
      "text/plain": [
       "<Figure size 576x432 with 1 Axes>"
      ]
     },
     "metadata": {},
     "output_type": "display_data"
    }
   ],
   "source": [
    "g = sns.FacetGrid(train_preds, hue='target')\n",
    "g.map(sns.distplot, 'lgb')\n",
    "g.fig.set_size_inches(8, 6)\n",
    "g.fig.legend()"
   ]
  },
  {
   "cell_type": "code",
   "execution_count": 82,
   "metadata": {
    "ExecuteTime": {
     "end_time": "2019-03-22T01:54:53.456185Z",
     "start_time": "2019-03-22T01:54:53.351401Z"
    }
   },
   "outputs": [],
   "source": [
    "probs = train_preds['target'].value_counts()/50000"
   ]
  },
  {
   "cell_type": "code",
   "execution_count": 83,
   "metadata": {
    "ExecuteTime": {
     "end_time": "2019-03-22T01:54:53.942410Z",
     "start_time": "2019-03-22T01:54:53.839682Z"
    }
   },
   "outputs": [
    {
     "data": {
      "text/plain": [
       "xgb         0.43686\n",
       "lgb_logy    0.28276\n",
       "lgb         0.28038\n",
       "Name: target, dtype: float64"
      ]
     },
     "execution_count": 83,
     "metadata": {},
     "output_type": "execute_result"
    }
   ],
   "source": [
    "probs"
   ]
  },
  {
   "cell_type": "code",
   "execution_count": 84,
   "metadata": {
    "ExecuteTime": {
     "end_time": "2019-03-22T01:55:16.735005Z",
     "start_time": "2019-03-22T01:55:16.637301Z"
    }
   },
   "outputs": [],
   "source": [
    "test_stack = pd.DataFrame(test_stack, columns=['lgb', 'lgb_logy', 'xgb'])"
   ]
  },
  {
   "cell_type": "code",
   "execution_count": 23,
   "metadata": {
    "ExecuteTime": {
     "end_time": "2019-03-22T01:01:07.183231Z",
     "start_time": "2019-03-22T01:01:07.058078Z"
    }
   },
   "outputs": [],
   "source": [
    "res = np.zeros((50000, 1))\n",
    "random_state = [1, 2019, 322]"
   ]
  },
  {
   "cell_type": "code",
   "execution_count": 97,
   "metadata": {
    "ExecuteTime": {
     "end_time": "2019-03-22T02:18:25.129638Z",
     "start_time": "2019-03-22T02:18:25.004590Z"
    }
   },
   "outputs": [],
   "source": [
    "# 分别用随机采样和比例的方式进行处理\n",
    "test_preds['y_test_pred'] = 0.43686*test_preds['xgb'] + \\\n",
    "    0.28276*test_preds['lgb_logy']+0.28038*test_preds['lgb']\n",
    "train_preds['y_test_pred'] = 0.43686*train_preds['xgb'] + \\\n",
    "    0.28276*train_preds['lgb_logy']+0.28038*train_preds['lgb']"
   ]
  },
  {
   "cell_type": "code",
   "execution_count": 89,
   "metadata": {
    "ExecuteTime": {
     "end_time": "2019-03-22T02:00:17.861138Z",
     "start_time": "2019-03-22T02:00:17.759237Z"
    }
   },
   "outputs": [],
   "source": [
    "def parse_prob(row, state):\n",
    "    return row.sample(n=1, weights=probs, random_state=state).values[0]"
   ]
  },
  {
   "cell_type": "code",
   "execution_count": null,
   "metadata": {
    "ExecuteTime": {
     "end_time": "2019-03-22T02:01:41.071056Z",
     "start_time": "2019-03-22T02:00:50.070069Z"
    }
   },
   "outputs": [],
   "source": [
    "test_preds['y_test_pred_sample'] = test_preds[[\n",
    "    'xgb', 'lgb_logy', 'lgb']].apply(lambda x: parse_prob(x, 0), axis=1)"
   ]
  },
  {
   "cell_type": "code",
   "execution_count": 95,
   "metadata": {
    "ExecuteTime": {
     "end_time": "2019-03-22T02:18:05.696842Z",
     "start_time": "2019-03-22T02:17:14.253930Z"
    }
   },
   "outputs": [],
   "source": [
    "train_preds['y_test_pred_sample'] = train_preds[[\n",
    "    'xgb', 'lgb_logy', 'lgb']].apply(lambda x: parse_prob(x, 1), axis=1)"
   ]
  },
  {
   "cell_type": "code",
   "execution_count": 98,
   "metadata": {
    "ExecuteTime": {
     "end_time": "2019-03-22T02:18:27.363408Z",
     "start_time": "2019-03-22T02:18:27.254059Z"
    }
   },
   "outputs": [
    {
     "name": "stdout",
     "output_type": "stream",
     "text": [
      "0.06394109799297992\n",
      "0.06394950437161123\n"
     ]
    }
   ],
   "source": [
    "print(1/(1+mean_absolute_error(train_preds['y_test_pred'], train_preds['y'])))\n",
    "print(1/(1+mean_absolute_error(train_preds['y_test_pred_sample'], train_preds['y'])))"
   ]
  },
  {
   "cell_type": "code",
   "execution_count": 102,
   "metadata": {
    "ExecuteTime": {
     "end_time": "2019-03-22T02:24:31.346832Z",
     "start_time": "2019-03-22T02:24:31.096730Z"
    }
   },
   "outputs": [],
   "source": [
    "res = pd.DataFrame(np.column_stack((test_df['用户编码'].values, np.round(test_preds['y_test_pred'], 0))), columns=['id', 'score'])\n",
    "res['score'] = res['score'].astype('int')\n",
    "res.to_csv('submission/submission_y_test_prop.csv',  index=False, encoding='utf-8')"
   ]
  },
  {
   "cell_type": "code",
   "execution_count": 103,
   "metadata": {
    "ExecuteTime": {
     "end_time": "2019-03-22T02:24:48.311579Z",
     "start_time": "2019-03-22T02:24:48.061529Z"
    }
   },
   "outputs": [],
   "source": [
    "res = pd.DataFrame(np.column_stack((test_df['用户编码'].values, np.round(test_preds['y_test_pred_sample'], 0))), columns=['id', 'score'])\n",
    "res['score'] = res['score'].astype('int')\n",
    "res.to_csv('submission/submission_y_test_sample.csv',  index=False, encoding='utf-8')"
   ]
  },
  {
   "cell_type": "code",
   "execution_count": 112,
   "metadata": {
    "ExecuteTime": {
     "end_time": "2019-03-21T16:00:43.921647Z",
     "start_time": "2019-03-21T16:00:43.821905Z"
    }
   },
   "outputs": [],
   "source": [
    "# 利用与 label 差异最小的一列和原始数据做训练，变成一个分类任务，应用在测试集上，但效果不理想。\n",
    "# from sklearn.metrics import log_loss\n",
    "# import xgboost as xgb\n",
    "\n",
    "# xgb_params = {'eta': 0.03, 'max_depth': 8, 'subsample': 0.75, 'colsample_bytree': 0.75, 'num_class':4,\n",
    "#               'objective': 'multi:softprob', 'eval_metric': 'mlogloss', 'silent': True, 'nthread': 4,\n",
    "#               'lambda': 1.5, 'alpha': 2.2, 'min_child_weight': 12, 'max_delta_step': 2}\n",
    "# dtrain = xgb.DMatrix(x_train.values, label=y_train)\n",
    "# watchlist = [(dtrain, 'train')]\n",
    "# xgbclf = xgb.train(xgb_params, dtrain, 5000, evals=watchlist, verbose_eval=200,\n",
    "#                                  early_stopping_rounds=100)\n",
    "# xgb_test_pred = xgbclf.predict(xgb.DMatrix(x_test.values))\n",
    "\n",
    "# pd.DataFrame(xgb_test_pred, columns=['lgb_logy', 'xgb', 'min', 'lgb']).to_csv(\n",
    "#     'xgb_test_pred.csv', index=False)\n",
    "\n",
    "# xgb_test_pred = pd.Series(le.inverse_transform(xgb_test_pred.argmax(1)))\n",
    "# xgb_test_pred.value_counts()\n",
    "\n",
    "# params = {\n",
    "#     'objective': 'multiclass',\n",
    "#     'boosting_type': 'gbdt',\n",
    "#     'num_leaves': 31,\n",
    "#     'num_class': 4,\n",
    "#     'reg_alpha': 1.2,\n",
    "#     'reg_lambda': 1.8,\n",
    "#     'max_depth': 8,\n",
    "#     'n_estimators': 2000,\n",
    "#     'subsample': 0.8,\n",
    "#     'colsample_bytree': 0.7,\n",
    "#     'subsample_freq': 1,\n",
    "#     'learning_rate': 0.024,\n",
    "#     'random_state': 2019,\n",
    "#     'n_jobs': -1,\n",
    "#     'min_child_weight': 16.4,\n",
    "#     'min_child_samples': 29,\n",
    "#     'min_split_gain': 0.1,\n",
    "# }\n",
    "# lgtrain = lgb.Dataset(x_train.values, y_train)\n",
    "# lgbmodel = lgb.train(params, lgtrain, 50000)\n",
    "# lgb_test_pred = lgbmodel.predict(x_test.values)\n",
    "\n",
    "# lgb_test_pred = pd.Series(le.inverse_transform(lgb_test_pred.argmax(1)))\n",
    "# lgb_test_pred.value_counts()\n",
    "\n",
    "\n",
    "# def mindiff_values(df, names):\n",
    "#     tmp = []\n",
    "#     for i in range(50000):\n",
    "#         tmp.append(df.iloc[i][names[i]])\n",
    "#     return tmp\n",
    "\n",
    "\n",
    "# train_preds['mindiff_value'] = mindiff_values(train_preds, models)\n",
    "\n",
    "# print(\n",
    "#     1/(1+mean_absolute_error(train_preds['mindiff_value'], train_preds['y'])))\n",
    "\n",
    "\n",
    "# test_stack['lgb_mindiff'] = mindiff_values(test_stack, lgb_test_pred)\n",
    "# test_stack['xgb_mindiff'] = mindiff_values(test_stack, xgb_test_pred)\n",
    "\n",
    "# # Y lgb 结果\n",
    "# res = pd.DataFrame(np.column_stack((test_df['用户编码'].values, np.round(\n",
    "#     test_stack['lgb_mindiff'], 0))), columns=['id', 'score'])\n",
    "# res['score'] = res['score'].astype('int')\n",
    "# res.to_csv('submission/submission_lgb_mindiff_stack.csv',\n",
    "#            index=False, encoding='utf-8')\n",
    "\n",
    "# # Y xgb 结果\n",
    "# res = pd.DataFrame(np.column_stack((test_df['用户编码'].values, np.round(\n",
    "#     test_stack['xgb_mindiff'], 0))), columns=['id', 'score'])\n",
    "# res['score'] = res['score'].astype('int')\n",
    "# res.to_csv('submission/submission_xgb_mindiff_stack.csv',\n",
    "#            index=False, encoding='utf-8')"
   ]
  },
  {
   "cell_type": "markdown",
   "metadata": {},
   "source": [
    "## lgb"
   ]
  },
  {
   "cell_type": "code",
   "execution_count": null,
   "metadata": {
    "ExecuteTime": {
     "end_time": "2019-03-21T06:06:25.802422Z",
     "start_time": "2019-03-21T06:06:23.631Z"
    }
   },
   "outputs": [],
   "source": [
    "# Y mae+mse 结果\n",
    "res = pd.DataFrame(np.column_stack((test_df['用户编码'].values, np.round(lgb_test, 0))), columns=['id', 'score'])\n",
    "res['score'] = res['score'].astype('int')\n",
    "res.to_csv('submission/submission.csv',  index=False, encoding='utf-8')"
   ]
  },
  {
   "cell_type": "markdown",
   "metadata": {},
   "source": [
    "## log_lgb"
   ]
  },
  {
   "cell_type": "code",
   "execution_count": null,
   "metadata": {
    "ExecuteTime": {
     "end_time": "2019-03-21T06:06:25.803423Z",
     "start_time": "2019-03-21T06:06:23.636Z"
    }
   },
   "outputs": [],
   "source": [
    "# logY mae+mse \n",
    "res = pd.DataFrame(np.column_stack((test_df['用户编码'].values, np.round(lgb_log_test, 0))), columns=['id', 'score'])\n",
    "res['score'] = res['score'].astype('int')\n",
    "res.to_csv('submission/submission_logy.csv',  index=False, encoding='utf-8')"
   ]
  },
  {
   "cell_type": "code",
   "execution_count": null,
   "metadata": {},
   "outputs": [],
   "source": []
  }
 ],
 "metadata": {
  "kernelspec": {
   "display_name": "Python 3",
   "language": "python",
   "name": "python3"
  },
  "language_info": {
   "codemirror_mode": {
    "name": "ipython",
    "version": 3
   },
   "file_extension": ".py",
   "mimetype": "text/x-python",
   "name": "python",
   "nbconvert_exporter": "python",
   "pygments_lexer": "ipython3",
   "version": "3.6.5"
  },
  "toc": {
   "base_numbering": 1,
   "nav_menu": {},
   "number_sections": true,
   "sideBar": true,
   "skip_h1_title": false,
   "title_cell": "Table of Contents",
   "title_sidebar": "Contents",
   "toc_cell": false,
   "toc_position": {
    "height": "calc(100% - 180px)",
    "left": "10px",
    "top": "150px",
    "width": "256px"
   },
   "toc_section_display": true,
   "toc_window_display": true
  }
 },
 "nbformat": 4,
 "nbformat_minor": 2
}
